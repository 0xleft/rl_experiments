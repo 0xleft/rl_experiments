{
 "cells": [
  {
   "cell_type": "code",
   "execution_count": null,
   "id": "847bdddd",
   "metadata": {},
   "outputs": [],
   "source": [
    "%pip install stable-baselines3[extra]"
   ]
  },
  {
   "cell_type": "code",
   "execution_count": null,
   "id": "46178817",
   "metadata": {},
   "outputs": [],
   "source": [
    "from stable_baselines3.common.env_checker import check_env\n",
    "from games.tileman.envs.solo_player_env import SoloPlayerEnv\n",
    "\n",
    "env = SoloPlayerEnv()\n",
    "check_env(env, warn=True)\n",
    "env.close()"
   ]
  },
  {
   "cell_type": "code",
   "execution_count": null,
   "id": "95b3b2df",
   "metadata": {},
   "outputs": [],
   "source": [
    "from games.tileman.envs.solo_player_env import SoloPlayerEnv\n",
    "from stable_baselines3 import PPO, A2C, DQN\n",
    "from stable_baselines3.common.env_util import make_vec_env\n",
    "\n",
    "# Instantiate the env\n",
    "# Train the agent\n",
    "model = A2C(\"MlpPolicy\", vec_env, verbose=1)"
   ]
  },
  {
   "cell_type": "code",
   "execution_count": null,
   "id": "29d64d76",
   "metadata": {},
   "outputs": [],
   "source": [
    "import numpy as np\n",
    "import games.tileman.envs.solo_player_env\n",
    "from stable_baselines3 import PPO\n",
    "from stable_baselines3.common.evaluation import evaluate_policy\n",
    "from stable_baselines3.ppo import MlpPolicy\n",
    "\n",
    "from imitation.algorithms import bc\n",
    "from imitation.data import rollout\n",
    "from imitation.data.wrappers import RolloutInfoWrapper\n",
    "from imitation.policies.serialize import load_policy\n",
    "from imitation.util.util import make_vec_env\n",
    "\n",
    "rng = np.random.default_rng(0)\n",
    "env = make_vec_env(\n",
    "    \"tileman-solo-v0\",\n",
    "    n_envs=1,\n",
    "    rng=rng,\n",
    "    post_wrappers=[lambda env, _: RolloutInfoWrapper(env)],  # for computing rollouts\n",
    ")\n",
    "\n",
    "def train_expert():\n",
    "    expert = PPO(\n",
    "        policy=MlpPolicy,\n",
    "        env=env,\n",
    "        seed=0,\n",
    "        batch_size=64,\n",
    "        ent_coef=0.0,\n",
    "        learning_rate=0.0003,\n",
    "        n_epochs=10,\n",
    "        n_steps=64,\n",
    "    )\n",
    "    expert.learn(100_000)  # Note: change this to 100_000 to train a decent expert.\n",
    "    return expert"
   ]
  },
  {
   "cell_type": "code",
   "execution_count": null,
   "id": "78ce84df",
   "metadata": {},
   "outputs": [],
   "source": [
    "def sample_expert_transitions():\n",
    "    expert = train_expert()\n",
    "\n",
    "    rollouts = rollout.rollout(\n",
    "        expert,\n",
    "        env,\n",
    "        rollout.make_sample_until(min_timesteps=None, min_episodes=50),\n",
    "        rng=rng,\n",
    "    )\n",
    "    return rollout.flatten_trajectories(rollouts)\n",
    "\n",
    "transitions = sample_expert_transitions()\n",
    "bc_trainer = bc.BC(\n",
    "    observation_space=env.observation_space,\n",
    "    action_space=env.action_space,\n",
    "    demonstrations=transitions,\n",
    "    rng=rng,\n",
    ")"
   ]
  },
  {
   "cell_type": "code",
   "execution_count": null,
   "id": "d8c5395c",
   "metadata": {},
   "outputs": [],
   "source": [
    "evaluation_env = make_vec_env(\n",
    "    \"tileman-solo-v0\",\n",
    "    rng=rng,\n",
    "    env_make_kwargs={\"render_mode\": \"human\"},  # for rendering\n",
    ")\n",
    "\n",
    "print(\"Evaluating the untrained policy.\")\n",
    "reward, _ = evaluate_policy(\n",
    "    bc_trainer.policy,  # type: ignore[arg-type]\n",
    "    evaluation_env,\n",
    "    n_eval_episodes=3,\n",
    "    render=False,  # comment out to speed up\n",
    ")\n",
    "print(f\"Reward before training: {reward}\")\n",
    "\n",
    "print(\"Training a policy using Behavior Cloning\")\n",
    "bc_trainer.train(n_epochs=10)\n",
    "\n",
    "print(\"Evaluating the trained policy.\")\n",
    "reward, _ = evaluate_policy(\n",
    "    bc_trainer.policy,  # type: ignore[arg-type]\n",
    "    evaluation_env,\n",
    "    n_eval_episodes=3,\n",
    "    render=False,  # comment out to speed up\n",
    ")\n",
    "print(f\"Reward after training: {reward}\")"
   ]
  },
  {
   "cell_type": "code",
   "execution_count": null,
   "id": "c9796d39",
   "metadata": {},
   "outputs": [],
   "source": [
    "!pip install -r requirements.txt"
   ]
  },
  {
   "cell_type": "code",
   "execution_count": 1,
   "id": "2cde1b9d",
   "metadata": {},
   "outputs": [
    {
     "name": "stdout",
     "output_type": "stream",
     "text": [
      "pygame 2.6.1 (SDL 2.28.4, Python 3.9.0)\n",
      "Hello from the pygame community. https://www.pygame.org/contribute.html\n"
     ]
    },
    {
     "data": {
      "application/vnd.jupyter.widget-view+json": {
       "model_id": "3342367dedc543ee80e86608c880cd44",
       "version_major": 2,
       "version_minor": 0
      },
      "text/plain": [
       "Output()"
      ]
     },
     "metadata": {},
     "output_type": "display_data"
    },
    {
     "data": {
      "text/html": [
       "<pre style=\"white-space:pre;overflow-x:auto;line-height:normal;font-family:Menlo,'DejaVu Sans Mono',consolas,'Courier New',monospace\">f:\\projects\\rl_experiments\\.venv\\lib\\site-packages\\stable_baselines3\\common\\save_util.py:284: UserWarning: Path \n",
       "'best_models\\10000' does not exist. Will create it.\n",
       "  warnings.warn(f\"Path '{path.parent}' does not exist. Will create it.\")\n",
       "</pre>\n"
      ],
      "text/plain": [
       "f:\\projects\\rl_experiments\\.venv\\lib\\site-packages\\stable_baselines3\\common\\save_util.py:284: UserWarning: Path \n",
       "'best_models\\10000' does not exist. Will create it.\n",
       "  warnings.warn(f\"Path '{path.parent}' does not exist. Will create it.\")\n"
      ]
     },
     "metadata": {},
     "output_type": "display_data"
    },
    {
     "data": {
      "text/html": [
       "<pre style=\"white-space:pre;overflow-x:auto;line-height:normal;font-family:Menlo,'DejaVu Sans Mono',consolas,'Courier New',monospace\">Step: 20000, Reward: 2.0\n",
       "</pre>\n"
      ],
      "text/plain": [
       "Step: 20000, Reward: 2.0\n"
      ]
     },
     "metadata": {},
     "output_type": "display_data"
    },
    {
     "data": {
      "text/html": [
       "<pre style=\"white-space:pre;overflow-x:auto;line-height:normal;font-family:Menlo,'DejaVu Sans Mono',consolas,'Courier New',monospace\">f:\\projects\\rl_experiments\\.venv\\lib\\site-packages\\stable_baselines3\\common\\save_util.py:284: UserWarning: Path \n",
       "'best_models\\20000' does not exist. Will create it.\n",
       "  warnings.warn(f\"Path '{path.parent}' does not exist. Will create it.\")\n",
       "</pre>\n"
      ],
      "text/plain": [
       "f:\\projects\\rl_experiments\\.venv\\lib\\site-packages\\stable_baselines3\\common\\save_util.py:284: UserWarning: Path \n",
       "'best_models\\20000' does not exist. Will create it.\n",
       "  warnings.warn(f\"Path '{path.parent}' does not exist. Will create it.\")\n"
      ]
     },
     "metadata": {},
     "output_type": "display_data"
    },
    {
     "data": {
      "text/html": [
       "<pre style=\"white-space:pre;overflow-x:auto;line-height:normal;font-family:Menlo,'DejaVu Sans Mono',consolas,'Courier New',monospace\">Step: 30000, Reward: 15.0\n",
       "</pre>\n"
      ],
      "text/plain": [
       "Step: 30000, Reward: 15.0\n"
      ]
     },
     "metadata": {},
     "output_type": "display_data"
    },
    {
     "data": {
      "text/html": [
       "<pre style=\"white-space:pre;overflow-x:auto;line-height:normal;font-family:Menlo,'DejaVu Sans Mono',consolas,'Courier New',monospace\">f:\\projects\\rl_experiments\\.venv\\lib\\site-packages\\stable_baselines3\\common\\save_util.py:284: UserWarning: Path \n",
       "'best_models\\30000' does not exist. Will create it.\n",
       "  warnings.warn(f\"Path '{path.parent}' does not exist. Will create it.\")\n",
       "</pre>\n"
      ],
      "text/plain": [
       "f:\\projects\\rl_experiments\\.venv\\lib\\site-packages\\stable_baselines3\\common\\save_util.py:284: UserWarning: Path \n",
       "'best_models\\30000' does not exist. Will create it.\n",
       "  warnings.warn(f\"Path '{path.parent}' does not exist. Will create it.\")\n"
      ]
     },
     "metadata": {},
     "output_type": "display_data"
    },
    {
     "data": {
      "text/html": [
       "<pre style=\"white-space:pre;overflow-x:auto;line-height:normal;font-family:Menlo,'DejaVu Sans Mono',consolas,'Courier New',monospace\">Step: 40000, Reward: 52.333333333333336\n",
       "</pre>\n"
      ],
      "text/plain": [
       "Step: 40000, Reward: 52.333333333333336\n"
      ]
     },
     "metadata": {},
     "output_type": "display_data"
    },
    {
     "data": {
      "text/html": [
       "<pre style=\"white-space:pre;overflow-x:auto;line-height:normal;font-family:Menlo,'DejaVu Sans Mono',consolas,'Courier New',monospace\">f:\\projects\\rl_experiments\\.venv\\lib\\site-packages\\stable_baselines3\\common\\save_util.py:284: UserWarning: Path \n",
       "'best_models\\40000' does not exist. Will create it.\n",
       "  warnings.warn(f\"Path '{path.parent}' does not exist. Will create it.\")\n",
       "</pre>\n"
      ],
      "text/plain": [
       "f:\\projects\\rl_experiments\\.venv\\lib\\site-packages\\stable_baselines3\\common\\save_util.py:284: UserWarning: Path \n",
       "'best_models\\40000' does not exist. Will create it.\n",
       "  warnings.warn(f\"Path '{path.parent}' does not exist. Will create it.\")\n"
      ]
     },
     "metadata": {},
     "output_type": "display_data"
    },
    {
     "data": {
      "text/html": [
       "<pre style=\"white-space:pre;overflow-x:auto;line-height:normal;font-family:Menlo,'DejaVu Sans Mono',consolas,'Courier New',monospace\">f:\\projects\\rl_experiments\\.venv\\lib\\site-packages\\stable_baselines3\\common\\save_util.py:284: UserWarning: Path \n",
       "'best_models\\50000' does not exist. Will create it.\n",
       "  warnings.warn(f\"Path '{path.parent}' does not exist. Will create it.\")\n",
       "</pre>\n"
      ],
      "text/plain": [
       "f:\\projects\\rl_experiments\\.venv\\lib\\site-packages\\stable_baselines3\\common\\save_util.py:284: UserWarning: Path \n",
       "'best_models\\50000' does not exist. Will create it.\n",
       "  warnings.warn(f\"Path '{path.parent}' does not exist. Will create it.\")\n"
      ]
     },
     "metadata": {},
     "output_type": "display_data"
    },
    {
     "data": {
      "text/html": [
       "<pre style=\"white-space:pre;overflow-x:auto;line-height:normal;font-family:Menlo,'DejaVu Sans Mono',consolas,'Courier New',monospace\">Step: 60000, Reward: 174.33333333333334\n",
       "</pre>\n"
      ],
      "text/plain": [
       "Step: 60000, Reward: 174.33333333333334\n"
      ]
     },
     "metadata": {},
     "output_type": "display_data"
    },
    {
     "data": {
      "text/html": [
       "<pre style=\"white-space:pre;overflow-x:auto;line-height:normal;font-family:Menlo,'DejaVu Sans Mono',consolas,'Courier New',monospace\">f:\\projects\\rl_experiments\\.venv\\lib\\site-packages\\stable_baselines3\\common\\save_util.py:284: UserWarning: Path \n",
       "'best_models\\60000' does not exist. Will create it.\n",
       "  warnings.warn(f\"Path '{path.parent}' does not exist. Will create it.\")\n",
       "</pre>\n"
      ],
      "text/plain": [
       "f:\\projects\\rl_experiments\\.venv\\lib\\site-packages\\stable_baselines3\\common\\save_util.py:284: UserWarning: Path \n",
       "'best_models\\60000' does not exist. Will create it.\n",
       "  warnings.warn(f\"Path '{path.parent}' does not exist. Will create it.\")\n"
      ]
     },
     "metadata": {},
     "output_type": "display_data"
    },
    {
     "data": {
      "text/html": [
       "<pre style=\"white-space:pre;overflow-x:auto;line-height:normal;font-family:Menlo,'DejaVu Sans Mono',consolas,'Courier New',monospace\">Step: 70000, Reward: 209.33333333333334\n",
       "</pre>\n"
      ],
      "text/plain": [
       "Step: 70000, Reward: 209.33333333333334\n"
      ]
     },
     "metadata": {},
     "output_type": "display_data"
    },
    {
     "data": {
      "text/html": [
       "<pre style=\"white-space:pre;overflow-x:auto;line-height:normal;font-family:Menlo,'DejaVu Sans Mono',consolas,'Courier New',monospace\">f:\\projects\\rl_experiments\\.venv\\lib\\site-packages\\stable_baselines3\\common\\save_util.py:284: UserWarning: Path \n",
       "'best_models\\70000' does not exist. Will create it.\n",
       "  warnings.warn(f\"Path '{path.parent}' does not exist. Will create it.\")\n",
       "</pre>\n"
      ],
      "text/plain": [
       "f:\\projects\\rl_experiments\\.venv\\lib\\site-packages\\stable_baselines3\\common\\save_util.py:284: UserWarning: Path \n",
       "'best_models\\70000' does not exist. Will create it.\n",
       "  warnings.warn(f\"Path '{path.parent}' does not exist. Will create it.\")\n"
      ]
     },
     "metadata": {},
     "output_type": "display_data"
    },
    {
     "data": {
      "text/html": [
       "<pre style=\"white-space:pre;overflow-x:auto;line-height:normal;font-family:Menlo,'DejaVu Sans Mono',consolas,'Courier New',monospace\">Step: 90000, Reward: 223.66666666666666\n",
       "</pre>\n"
      ],
      "text/plain": [
       "Step: 90000, Reward: 223.66666666666666\n"
      ]
     },
     "metadata": {},
     "output_type": "display_data"
    },
    {
     "data": {
      "text/html": [
       "<pre style=\"white-space:pre;overflow-x:auto;line-height:normal;font-family:Menlo,'DejaVu Sans Mono',consolas,'Courier New',monospace\">f:\\projects\\rl_experiments\\.venv\\lib\\site-packages\\stable_baselines3\\common\\save_util.py:284: UserWarning: Path \n",
       "'best_models\\90000' does not exist. Will create it.\n",
       "  warnings.warn(f\"Path '{path.parent}' does not exist. Will create it.\")\n",
       "</pre>\n"
      ],
      "text/plain": [
       "f:\\projects\\rl_experiments\\.venv\\lib\\site-packages\\stable_baselines3\\common\\save_util.py:284: UserWarning: Path \n",
       "'best_models\\90000' does not exist. Will create it.\n",
       "  warnings.warn(f\"Path '{path.parent}' does not exist. Will create it.\")\n"
      ]
     },
     "metadata": {},
     "output_type": "display_data"
    },
    {
     "data": {
      "text/html": [
       "<pre style=\"white-space:pre;overflow-x:auto;line-height:normal;font-family:Menlo,'DejaVu Sans Mono',consolas,'Courier New',monospace\">Step: 100000, Reward: 238.33333333333334\n",
       "</pre>\n"
      ],
      "text/plain": [
       "Step: 100000, Reward: 238.33333333333334\n"
      ]
     },
     "metadata": {},
     "output_type": "display_data"
    },
    {
     "data": {
      "text/html": [
       "<pre style=\"white-space:pre;overflow-x:auto;line-height:normal;font-family:Menlo,'DejaVu Sans Mono',consolas,'Courier New',monospace\">f:\\projects\\rl_experiments\\.venv\\lib\\site-packages\\stable_baselines3\\common\\save_util.py:284: UserWarning: Path \n",
       "'best_models\\100000' does not exist. Will create it.\n",
       "  warnings.warn(f\"Path '{path.parent}' does not exist. Will create it.\")\n",
       "</pre>\n"
      ],
      "text/plain": [
       "f:\\projects\\rl_experiments\\.venv\\lib\\site-packages\\stable_baselines3\\common\\save_util.py:284: UserWarning: Path \n",
       "'best_models\\100000' does not exist. Will create it.\n",
       "  warnings.warn(f\"Path '{path.parent}' does not exist. Will create it.\")\n"
      ]
     },
     "metadata": {},
     "output_type": "display_data"
    },
    {
     "data": {
      "text/html": [
       "<pre style=\"white-space:pre;overflow-x:auto;line-height:normal;font-family:Menlo,'DejaVu Sans Mono',consolas,'Courier New',monospace\">Step: 110000, Reward: 235.66666666666666\n",
       "</pre>\n"
      ],
      "text/plain": [
       "Step: 110000, Reward: 235.66666666666666\n"
      ]
     },
     "metadata": {},
     "output_type": "display_data"
    },
    {
     "data": {
      "text/html": [
       "<pre style=\"white-space:pre;overflow-x:auto;line-height:normal;font-family:Menlo,'DejaVu Sans Mono',consolas,'Courier New',monospace\">f:\\projects\\rl_experiments\\.venv\\lib\\site-packages\\stable_baselines3\\common\\save_util.py:284: UserWarning: Path \n",
       "'best_models\\120000' does not exist. Will create it.\n",
       "  warnings.warn(f\"Path '{path.parent}' does not exist. Will create it.\")\n",
       "</pre>\n"
      ],
      "text/plain": [
       "f:\\projects\\rl_experiments\\.venv\\lib\\site-packages\\stable_baselines3\\common\\save_util.py:284: UserWarning: Path \n",
       "'best_models\\120000' does not exist. Will create it.\n",
       "  warnings.warn(f\"Path '{path.parent}' does not exist. Will create it.\")\n"
      ]
     },
     "metadata": {},
     "output_type": "display_data"
    },
    {
     "data": {
      "text/html": [
       "<pre style=\"white-space:pre;overflow-x:auto;line-height:normal;font-family:Menlo,'DejaVu Sans Mono',consolas,'Courier New',monospace\">Step: 130000, Reward: 249.66666666666666\n",
       "</pre>\n"
      ],
      "text/plain": [
       "Step: 130000, Reward: 249.66666666666666\n"
      ]
     },
     "metadata": {},
     "output_type": "display_data"
    },
    {
     "data": {
      "text/html": [
       "<pre style=\"white-space:pre;overflow-x:auto;line-height:normal;font-family:Menlo,'DejaVu Sans Mono',consolas,'Courier New',monospace\">f:\\projects\\rl_experiments\\.venv\\lib\\site-packages\\stable_baselines3\\common\\save_util.py:284: UserWarning: Path \n",
       "'best_models\\130000' does not exist. Will create it.\n",
       "  warnings.warn(f\"Path '{path.parent}' does not exist. Will create it.\")\n",
       "</pre>\n"
      ],
      "text/plain": [
       "f:\\projects\\rl_experiments\\.venv\\lib\\site-packages\\stable_baselines3\\common\\save_util.py:284: UserWarning: Path \n",
       "'best_models\\130000' does not exist. Will create it.\n",
       "  warnings.warn(f\"Path '{path.parent}' does not exist. Will create it.\")\n"
      ]
     },
     "metadata": {},
     "output_type": "display_data"
    },
    {
     "data": {
      "text/html": [
       "<pre style=\"white-space:pre;overflow-x:auto;line-height:normal;font-family:Menlo,'DejaVu Sans Mono',consolas,'Courier New',monospace\">Step: 140000, Reward: 255.0\n",
       "</pre>\n"
      ],
      "text/plain": [
       "Step: 140000, Reward: 255.0\n"
      ]
     },
     "metadata": {},
     "output_type": "display_data"
    },
    {
     "data": {
      "text/html": [
       "<pre style=\"white-space:pre;overflow-x:auto;line-height:normal;font-family:Menlo,'DejaVu Sans Mono',consolas,'Courier New',monospace\">f:\\projects\\rl_experiments\\.venv\\lib\\site-packages\\stable_baselines3\\common\\save_util.py:284: UserWarning: Path \n",
       "'best_models\\140000' does not exist. Will create it.\n",
       "  warnings.warn(f\"Path '{path.parent}' does not exist. Will create it.\")\n",
       "</pre>\n"
      ],
      "text/plain": [
       "f:\\projects\\rl_experiments\\.venv\\lib\\site-packages\\stable_baselines3\\common\\save_util.py:284: UserWarning: Path \n",
       "'best_models\\140000' does not exist. Will create it.\n",
       "  warnings.warn(f\"Path '{path.parent}' does not exist. Will create it.\")\n"
      ]
     },
     "metadata": {},
     "output_type": "display_data"
    },
    {
     "data": {
      "text/html": [
       "<pre style=\"white-space:pre;overflow-x:auto;line-height:normal;font-family:Menlo,'DejaVu Sans Mono',consolas,'Courier New',monospace\">f:\\projects\\rl_experiments\\.venv\\lib\\site-packages\\stable_baselines3\\common\\save_util.py:284: UserWarning: Path \n",
       "'best_models\\150000' does not exist. Will create it.\n",
       "  warnings.warn(f\"Path '{path.parent}' does not exist. Will create it.\")\n",
       "</pre>\n"
      ],
      "text/plain": [
       "f:\\projects\\rl_experiments\\.venv\\lib\\site-packages\\stable_baselines3\\common\\save_util.py:284: UserWarning: Path \n",
       "'best_models\\150000' does not exist. Will create it.\n",
       "  warnings.warn(f\"Path '{path.parent}' does not exist. Will create it.\")\n"
      ]
     },
     "metadata": {},
     "output_type": "display_data"
    },
    {
     "data": {
      "text/html": [
       "<pre style=\"white-space:pre;overflow-x:auto;line-height:normal;font-family:Menlo,'DejaVu Sans Mono',consolas,'Courier New',monospace\">Step: 170000, Reward: 253.66666666666666\n",
       "</pre>\n"
      ],
      "text/plain": [
       "Step: 170000, Reward: 253.66666666666666\n"
      ]
     },
     "metadata": {},
     "output_type": "display_data"
    },
    {
     "data": {
      "text/html": [
       "<pre style=\"white-space:pre;overflow-x:auto;line-height:normal;font-family:Menlo,'DejaVu Sans Mono',consolas,'Courier New',monospace\">Step: 180000, Reward: 258.3333333333333\n",
       "</pre>\n"
      ],
      "text/plain": [
       "Step: 180000, Reward: 258.3333333333333\n"
      ]
     },
     "metadata": {},
     "output_type": "display_data"
    },
    {
     "data": {
      "text/html": [
       "<pre style=\"white-space:pre;overflow-x:auto;line-height:normal;font-family:Menlo,'DejaVu Sans Mono',consolas,'Courier New',monospace\">f:\\projects\\rl_experiments\\.venv\\lib\\site-packages\\stable_baselines3\\common\\save_util.py:284: UserWarning: Path \n",
       "'best_models\\180000' does not exist. Will create it.\n",
       "  warnings.warn(f\"Path '{path.parent}' does not exist. Will create it.\")\n",
       "</pre>\n"
      ],
      "text/plain": [
       "f:\\projects\\rl_experiments\\.venv\\lib\\site-packages\\stable_baselines3\\common\\save_util.py:284: UserWarning: Path \n",
       "'best_models\\180000' does not exist. Will create it.\n",
       "  warnings.warn(f\"Path '{path.parent}' does not exist. Will create it.\")\n"
      ]
     },
     "metadata": {},
     "output_type": "display_data"
    },
    {
     "data": {
      "text/html": [
       "<pre style=\"white-space:pre;overflow-x:auto;line-height:normal;font-family:Menlo,'DejaVu Sans Mono',consolas,'Courier New',monospace\">Step: 190000, Reward: 178.0\n",
       "</pre>\n"
      ],
      "text/plain": [
       "Step: 190000, Reward: 178.0\n"
      ]
     },
     "metadata": {},
     "output_type": "display_data"
    },
    {
     "data": {
      "text/html": [
       "<pre style=\"white-space:pre;overflow-x:auto;line-height:normal;font-family:Menlo,'DejaVu Sans Mono',consolas,'Courier New',monospace\">Step: 200000, Reward: 179.33333333333334\n",
       "</pre>\n"
      ],
      "text/plain": [
       "Step: 200000, Reward: 179.33333333333334\n"
      ]
     },
     "metadata": {},
     "output_type": "display_data"
    },
    {
     "data": {
      "text/html": [
       "<pre style=\"white-space:pre;overflow-x:auto;line-height:normal;font-family:Menlo,'DejaVu Sans Mono',consolas,'Courier New',monospace\">Step: 210000, Reward: 261.3333333333333\n",
       "</pre>\n"
      ],
      "text/plain": [
       "Step: 210000, Reward: 261.3333333333333\n"
      ]
     },
     "metadata": {},
     "output_type": "display_data"
    },
    {
     "data": {
      "text/html": [
       "<pre style=\"white-space:pre;overflow-x:auto;line-height:normal;font-family:Menlo,'DejaVu Sans Mono',consolas,'Courier New',monospace\">f:\\projects\\rl_experiments\\.venv\\lib\\site-packages\\stable_baselines3\\common\\save_util.py:284: UserWarning: Path \n",
       "'best_models\\210000' does not exist. Will create it.\n",
       "  warnings.warn(f\"Path '{path.parent}' does not exist. Will create it.\")\n",
       "</pre>\n"
      ],
      "text/plain": [
       "f:\\projects\\rl_experiments\\.venv\\lib\\site-packages\\stable_baselines3\\common\\save_util.py:284: UserWarning: Path \n",
       "'best_models\\210000' does not exist. Will create it.\n",
       "  warnings.warn(f\"Path '{path.parent}' does not exist. Will create it.\")\n"
      ]
     },
     "metadata": {},
     "output_type": "display_data"
    },
    {
     "data": {
      "text/html": [
       "<pre style=\"white-space:pre;overflow-x:auto;line-height:normal;font-family:Menlo,'DejaVu Sans Mono',consolas,'Courier New',monospace\">Step: 220000, Reward: 262.0\n",
       "</pre>\n"
      ],
      "text/plain": [
       "Step: 220000, Reward: 262.0\n"
      ]
     },
     "metadata": {},
     "output_type": "display_data"
    },
    {
     "data": {
      "text/html": [
       "<pre style=\"white-space:pre;overflow-x:auto;line-height:normal;font-family:Menlo,'DejaVu Sans Mono',consolas,'Courier New',monospace\">f:\\projects\\rl_experiments\\.venv\\lib\\site-packages\\stable_baselines3\\common\\save_util.py:284: UserWarning: Path \n",
       "'best_models\\220000' does not exist. Will create it.\n",
       "  warnings.warn(f\"Path '{path.parent}' does not exist. Will create it.\")\n",
       "</pre>\n"
      ],
      "text/plain": [
       "f:\\projects\\rl_experiments\\.venv\\lib\\site-packages\\stable_baselines3\\common\\save_util.py:284: UserWarning: Path \n",
       "'best_models\\220000' does not exist. Will create it.\n",
       "  warnings.warn(f\"Path '{path.parent}' does not exist. Will create it.\")\n"
      ]
     },
     "metadata": {},
     "output_type": "display_data"
    },
    {
     "data": {
      "text/html": [
       "<pre style=\"white-space:pre;overflow-x:auto;line-height:normal;font-family:Menlo,'DejaVu Sans Mono',consolas,'Courier New',monospace\">Step: 230000, Reward: 266.3333333333333\n",
       "</pre>\n"
      ],
      "text/plain": [
       "Step: 230000, Reward: 266.3333333333333\n"
      ]
     },
     "metadata": {},
     "output_type": "display_data"
    },
    {
     "data": {
      "text/html": [
       "<pre style=\"white-space:pre;overflow-x:auto;line-height:normal;font-family:Menlo,'DejaVu Sans Mono',consolas,'Courier New',monospace\">f:\\projects\\rl_experiments\\.venv\\lib\\site-packages\\stable_baselines3\\common\\save_util.py:284: UserWarning: Path \n",
       "'best_models\\230000' does not exist. Will create it.\n",
       "  warnings.warn(f\"Path '{path.parent}' does not exist. Will create it.\")\n",
       "</pre>\n"
      ],
      "text/plain": [
       "f:\\projects\\rl_experiments\\.venv\\lib\\site-packages\\stable_baselines3\\common\\save_util.py:284: UserWarning: Path \n",
       "'best_models\\230000' does not exist. Will create it.\n",
       "  warnings.warn(f\"Path '{path.parent}' does not exist. Will create it.\")\n"
      ]
     },
     "metadata": {},
     "output_type": "display_data"
    },
    {
     "data": {
      "text/html": [
       "<pre style=\"white-space:pre;overflow-x:auto;line-height:normal;font-family:Menlo,'DejaVu Sans Mono',consolas,'Courier New',monospace\">Step: 260000, Reward: 263.3333333333333\n",
       "</pre>\n"
      ],
      "text/plain": [
       "Step: 260000, Reward: 263.3333333333333\n"
      ]
     },
     "metadata": {},
     "output_type": "display_data"
    },
    {
     "data": {
      "text/html": [
       "<pre style=\"white-space:pre;overflow-x:auto;line-height:normal;font-family:Menlo,'DejaVu Sans Mono',consolas,'Courier New',monospace\">f:\\projects\\rl_experiments\\.venv\\lib\\site-packages\\stable_baselines3\\common\\save_util.py:284: UserWarning: Path \n",
       "'best_models\\280000' does not exist. Will create it.\n",
       "  warnings.warn(f\"Path '{path.parent}' does not exist. Will create it.\")\n",
       "</pre>\n"
      ],
      "text/plain": [
       "f:\\projects\\rl_experiments\\.venv\\lib\\site-packages\\stable_baselines3\\common\\save_util.py:284: UserWarning: Path \n",
       "'best_models\\280000' does not exist. Will create it.\n",
       "  warnings.warn(f\"Path '{path.parent}' does not exist. Will create it.\")\n"
      ]
     },
     "metadata": {},
     "output_type": "display_data"
    },
    {
     "data": {
      "text/html": [
       "<pre style=\"white-space:pre;overflow-x:auto;line-height:normal;font-family:Menlo,'DejaVu Sans Mono',consolas,'Courier New',monospace\">Step: 290000, Reward: 267.6666666666667\n",
       "</pre>\n"
      ],
      "text/plain": [
       "Step: 290000, Reward: 267.6666666666667\n"
      ]
     },
     "metadata": {},
     "output_type": "display_data"
    },
    {
     "data": {
      "text/html": [
       "<pre style=\"white-space:pre;overflow-x:auto;line-height:normal;font-family:Menlo,'DejaVu Sans Mono',consolas,'Courier New',monospace\">f:\\projects\\rl_experiments\\.venv\\lib\\site-packages\\stable_baselines3\\common\\save_util.py:284: UserWarning: Path \n",
       "'best_models\\290000' does not exist. Will create it.\n",
       "  warnings.warn(f\"Path '{path.parent}' does not exist. Will create it.\")\n",
       "</pre>\n"
      ],
      "text/plain": [
       "f:\\projects\\rl_experiments\\.venv\\lib\\site-packages\\stable_baselines3\\common\\save_util.py:284: UserWarning: Path \n",
       "'best_models\\290000' does not exist. Will create it.\n",
       "  warnings.warn(f\"Path '{path.parent}' does not exist. Will create it.\")\n"
      ]
     },
     "metadata": {},
     "output_type": "display_data"
    },
    {
     "data": {
      "text/html": [
       "<pre style=\"white-space:pre;overflow-x:auto;line-height:normal;font-family:Menlo,'DejaVu Sans Mono',consolas,'Courier New',monospace\">Step: 300000, Reward: 264.0\n",
       "</pre>\n"
      ],
      "text/plain": [
       "Step: 300000, Reward: 264.0\n"
      ]
     },
     "metadata": {},
     "output_type": "display_data"
    },
    {
     "data": {
      "text/html": [
       "<pre style=\"white-space:pre;overflow-x:auto;line-height:normal;font-family:Menlo,'DejaVu Sans Mono',consolas,'Courier New',monospace\">f:\\projects\\rl_experiments\\.venv\\lib\\site-packages\\stable_baselines3\\common\\save_util.py:284: UserWarning: Path \n",
       "'best_models\\310000' does not exist. Will create it.\n",
       "  warnings.warn(f\"Path '{path.parent}' does not exist. Will create it.\")\n",
       "</pre>\n"
      ],
      "text/plain": [
       "f:\\projects\\rl_experiments\\.venv\\lib\\site-packages\\stable_baselines3\\common\\save_util.py:284: UserWarning: Path \n",
       "'best_models\\310000' does not exist. Will create it.\n",
       "  warnings.warn(f\"Path '{path.parent}' does not exist. Will create it.\")\n"
      ]
     },
     "metadata": {},
     "output_type": "display_data"
    },
    {
     "data": {
      "text/html": [
       "<pre style=\"white-space:pre;overflow-x:auto;line-height:normal;font-family:Menlo,'DejaVu Sans Mono',consolas,'Courier New',monospace\">Step: 340000, Reward: 265.6666666666667\n",
       "</pre>\n"
      ],
      "text/plain": [
       "Step: 340000, Reward: 265.6666666666667\n"
      ]
     },
     "metadata": {},
     "output_type": "display_data"
    },
    {
     "data": {
      "text/html": [
       "<pre style=\"white-space:pre;overflow-x:auto;line-height:normal;font-family:Menlo,'DejaVu Sans Mono',consolas,'Courier New',monospace\">Step: 360000, Reward: 263.3333333333333\n",
       "</pre>\n"
      ],
      "text/plain": [
       "Step: 360000, Reward: 263.3333333333333\n"
      ]
     },
     "metadata": {},
     "output_type": "display_data"
    },
    {
     "data": {
      "text/html": [
       "<pre style=\"white-space:pre;overflow-x:auto;line-height:normal;font-family:Menlo,'DejaVu Sans Mono',consolas,'Courier New',monospace\">Step: 370000, Reward: 219.66666666666666\n",
       "</pre>\n"
      ],
      "text/plain": [
       "Step: 370000, Reward: 219.66666666666666\n"
      ]
     },
     "metadata": {},
     "output_type": "display_data"
    },
    {
     "data": {
      "text/html": [
       "<pre style=\"white-space:pre;overflow-x:auto;line-height:normal;font-family:Menlo,'DejaVu Sans Mono',consolas,'Courier New',monospace\">Step: 380000, Reward: 264.3333333333333\n",
       "</pre>\n"
      ],
      "text/plain": [
       "Step: 380000, Reward: 264.3333333333333\n"
      ]
     },
     "metadata": {},
     "output_type": "display_data"
    },
    {
     "data": {
      "text/html": [
       "<pre style=\"white-space:pre;overflow-x:auto;line-height:normal;font-family:Menlo,'DejaVu Sans Mono',consolas,'Courier New',monospace\">Step: 390000, Reward: 271.0\n",
       "</pre>\n"
      ],
      "text/plain": [
       "Step: 390000, Reward: 271.0\n"
      ]
     },
     "metadata": {},
     "output_type": "display_data"
    },
    {
     "data": {
      "text/html": [
       "<pre style=\"white-space:pre;overflow-x:auto;line-height:normal;font-family:Menlo,'DejaVu Sans Mono',consolas,'Courier New',monospace\">Step: 400000, Reward: 263.6666666666667\n",
       "</pre>\n"
      ],
      "text/plain": [
       "Step: 400000, Reward: 263.6666666666667\n"
      ]
     },
     "metadata": {},
     "output_type": "display_data"
    },
    {
     "data": {
      "text/html": [
       "<pre style=\"white-space:pre;overflow-x:auto;line-height:normal;font-family:Menlo,'DejaVu Sans Mono',consolas,'Courier New',monospace\">Step: 410000, Reward: 262.6666666666667\n",
       "</pre>\n"
      ],
      "text/plain": [
       "Step: 410000, Reward: 262.6666666666667\n"
      ]
     },
     "metadata": {},
     "output_type": "display_data"
    },
    {
     "data": {
      "text/html": [
       "<pre style=\"white-space:pre;overflow-x:auto;line-height:normal;font-family:Menlo,'DejaVu Sans Mono',consolas,'Courier New',monospace\">Step: 420000, Reward: 272.0\n",
       "</pre>\n"
      ],
      "text/plain": [
       "Step: 420000, Reward: 272.0\n"
      ]
     },
     "metadata": {},
     "output_type": "display_data"
    },
    {
     "data": {
      "text/html": [
       "<pre style=\"white-space:pre;overflow-x:auto;line-height:normal;font-family:Menlo,'DejaVu Sans Mono',consolas,'Courier New',monospace\">f:\\projects\\rl_experiments\\.venv\\lib\\site-packages\\stable_baselines3\\common\\save_util.py:284: UserWarning: Path \n",
       "'best_models\\420000' does not exist. Will create it.\n",
       "  warnings.warn(f\"Path '{path.parent}' does not exist. Will create it.\")\n",
       "</pre>\n"
      ],
      "text/plain": [
       "f:\\projects\\rl_experiments\\.venv\\lib\\site-packages\\stable_baselines3\\common\\save_util.py:284: UserWarning: Path \n",
       "'best_models\\420000' does not exist. Will create it.\n",
       "  warnings.warn(f\"Path '{path.parent}' does not exist. Will create it.\")\n"
      ]
     },
     "metadata": {},
     "output_type": "display_data"
    },
    {
     "data": {
      "text/html": [
       "<pre style=\"white-space:pre;overflow-x:auto;line-height:normal;font-family:Menlo,'DejaVu Sans Mono',consolas,'Courier New',monospace\">Step: 430000, Reward: 267.0\n",
       "</pre>\n"
      ],
      "text/plain": [
       "Step: 430000, Reward: 267.0\n"
      ]
     },
     "metadata": {},
     "output_type": "display_data"
    },
    {
     "data": {
      "text/html": [
       "<pre style=\"white-space:pre;overflow-x:auto;line-height:normal;font-family:Menlo,'DejaVu Sans Mono',consolas,'Courier New',monospace\">Step: 450000, Reward: 271.3333333333333\n",
       "</pre>\n"
      ],
      "text/plain": [
       "Step: 450000, Reward: 271.3333333333333\n"
      ]
     },
     "metadata": {},
     "output_type": "display_data"
    },
    {
     "data": {
      "text/html": [
       "<pre style=\"white-space:pre;overflow-x:auto;line-height:normal;font-family:Menlo,'DejaVu Sans Mono',consolas,'Courier New',monospace\">Step: 460000, Reward: 268.0\n",
       "</pre>\n"
      ],
      "text/plain": [
       "Step: 460000, Reward: 268.0\n"
      ]
     },
     "metadata": {},
     "output_type": "display_data"
    },
    {
     "data": {
      "text/html": [
       "<pre style=\"white-space:pre;overflow-x:auto;line-height:normal;font-family:Menlo,'DejaVu Sans Mono',consolas,'Courier New',monospace\">Step: 470000, Reward: 269.6666666666667\n",
       "</pre>\n"
      ],
      "text/plain": [
       "Step: 470000, Reward: 269.6666666666667\n"
      ]
     },
     "metadata": {},
     "output_type": "display_data"
    },
    {
     "data": {
      "text/html": [
       "<pre style=\"white-space:pre;overflow-x:auto;line-height:normal;font-family:Menlo,'DejaVu Sans Mono',consolas,'Courier New',monospace\">Step: 480000, Reward: 268.6666666666667\n",
       "</pre>\n"
      ],
      "text/plain": [
       "Step: 480000, Reward: 268.6666666666667\n"
      ]
     },
     "metadata": {},
     "output_type": "display_data"
    },
    {
     "data": {
      "text/html": [
       "<pre style=\"white-space:pre;overflow-x:auto;line-height:normal;font-family:Menlo,'DejaVu Sans Mono',consolas,'Courier New',monospace\">Step: 490000, Reward: 265.0\n",
       "</pre>\n"
      ],
      "text/plain": [
       "Step: 490000, Reward: 265.0\n"
      ]
     },
     "metadata": {},
     "output_type": "display_data"
    },
    {
     "data": {
      "text/html": [
       "<pre style=\"white-space:pre;overflow-x:auto;line-height:normal;font-family:Menlo,'DejaVu Sans Mono',consolas,'Courier New',monospace\">Step: 500000, Reward: 270.3333333333333\n",
       "</pre>\n"
      ],
      "text/plain": [
       "Step: 500000, Reward: 270.3333333333333\n"
      ]
     },
     "metadata": {},
     "output_type": "display_data"
    },
    {
     "data": {
      "text/html": [
       "<pre style=\"white-space:pre;overflow-x:auto;line-height:normal;font-family:Menlo,'DejaVu Sans Mono',consolas,'Courier New',monospace\">Step: 510000, Reward: 267.6666666666667\n",
       "</pre>\n"
      ],
      "text/plain": [
       "Step: 510000, Reward: 267.6666666666667\n"
      ]
     },
     "metadata": {},
     "output_type": "display_data"
    },
    {
     "data": {
      "text/html": [
       "<pre style=\"white-space:pre;overflow-x:auto;line-height:normal;font-family:Menlo,'DejaVu Sans Mono',consolas,'Courier New',monospace\">Step: 540000, Reward: 269.6666666666667\n",
       "</pre>\n"
      ],
      "text/plain": [
       "Step: 540000, Reward: 269.6666666666667\n"
      ]
     },
     "metadata": {},
     "output_type": "display_data"
    },
    {
     "data": {
      "text/html": [
       "<pre style=\"white-space:pre;overflow-x:auto;line-height:normal;font-family:Menlo,'DejaVu Sans Mono',consolas,'Courier New',monospace\">Step: 550000, Reward: 267.0\n",
       "</pre>\n"
      ],
      "text/plain": [
       "Step: 550000, Reward: 267.0\n"
      ]
     },
     "metadata": {},
     "output_type": "display_data"
    },
    {
     "data": {
      "text/html": [
       "<pre style=\"white-space:pre;overflow-x:auto;line-height:normal;font-family:Menlo,'DejaVu Sans Mono',consolas,'Courier New',monospace\">Step: 560000, Reward: 262.0\n",
       "</pre>\n"
      ],
      "text/plain": [
       "Step: 560000, Reward: 262.0\n"
      ]
     },
     "metadata": {},
     "output_type": "display_data"
    },
    {
     "data": {
      "text/html": [
       "<pre style=\"white-space:pre;overflow-x:auto;line-height:normal;font-family:Menlo,'DejaVu Sans Mono',consolas,'Courier New',monospace\">Step: 570000, Reward: 263.3333333333333\n",
       "</pre>\n"
      ],
      "text/plain": [
       "Step: 570000, Reward: 263.3333333333333\n"
      ]
     },
     "metadata": {},
     "output_type": "display_data"
    },
    {
     "data": {
      "text/html": [
       "<pre style=\"white-space:pre;overflow-x:auto;line-height:normal;font-family:Menlo,'DejaVu Sans Mono',consolas,'Courier New',monospace\">Step: 590000, Reward: 268.3333333333333\n",
       "</pre>\n"
      ],
      "text/plain": [
       "Step: 590000, Reward: 268.3333333333333\n"
      ]
     },
     "metadata": {},
     "output_type": "display_data"
    },
    {
     "data": {
      "text/html": [
       "<pre style=\"white-space:pre;overflow-x:auto;line-height:normal;font-family:Menlo,'DejaVu Sans Mono',consolas,'Courier New',monospace\">Step: 600000, Reward: 274.6666666666667\n",
       "</pre>\n"
      ],
      "text/plain": [
       "Step: 600000, Reward: 274.6666666666667\n"
      ]
     },
     "metadata": {},
     "output_type": "display_data"
    },
    {
     "data": {
      "text/html": [
       "<pre style=\"white-space:pre;overflow-x:auto;line-height:normal;font-family:Menlo,'DejaVu Sans Mono',consolas,'Courier New',monospace\">f:\\projects\\rl_experiments\\.venv\\lib\\site-packages\\stable_baselines3\\common\\save_util.py:284: UserWarning: Path \n",
       "'best_models\\600000' does not exist. Will create it.\n",
       "  warnings.warn(f\"Path '{path.parent}' does not exist. Will create it.\")\n",
       "</pre>\n"
      ],
      "text/plain": [
       "f:\\projects\\rl_experiments\\.venv\\lib\\site-packages\\stable_baselines3\\common\\save_util.py:284: UserWarning: Path \n",
       "'best_models\\600000' does not exist. Will create it.\n",
       "  warnings.warn(f\"Path '{path.parent}' does not exist. Will create it.\")\n"
      ]
     },
     "metadata": {},
     "output_type": "display_data"
    },
    {
     "data": {
      "text/html": [
       "<pre style=\"white-space:pre;overflow-x:auto;line-height:normal;font-family:Menlo,'DejaVu Sans Mono',consolas,'Courier New',monospace\">Step: 610000, Reward: 264.6666666666667\n",
       "</pre>\n"
      ],
      "text/plain": [
       "Step: 610000, Reward: 264.6666666666667\n"
      ]
     },
     "metadata": {},
     "output_type": "display_data"
    },
    {
     "data": {
      "text/html": [
       "<pre style=\"white-space:pre;overflow-x:auto;line-height:normal;font-family:Menlo,'DejaVu Sans Mono',consolas,'Courier New',monospace\">Step: 620000, Reward: 273.3333333333333\n",
       "</pre>\n"
      ],
      "text/plain": [
       "Step: 620000, Reward: 273.3333333333333\n"
      ]
     },
     "metadata": {},
     "output_type": "display_data"
    },
    {
     "data": {
      "text/html": [
       "<pre style=\"white-space:pre;overflow-x:auto;line-height:normal;font-family:Menlo,'DejaVu Sans Mono',consolas,'Courier New',monospace\">Step: 640000, Reward: 269.3333333333333\n",
       "</pre>\n"
      ],
      "text/plain": [
       "Step: 640000, Reward: 269.3333333333333\n"
      ]
     },
     "metadata": {},
     "output_type": "display_data"
    },
    {
     "data": {
      "text/html": [
       "<pre style=\"white-space:pre;overflow-x:auto;line-height:normal;font-family:Menlo,'DejaVu Sans Mono',consolas,'Courier New',monospace\">Step: 660000, Reward: 266.3333333333333\n",
       "</pre>\n"
      ],
      "text/plain": [
       "Step: 660000, Reward: 266.3333333333333\n"
      ]
     },
     "metadata": {},
     "output_type": "display_data"
    },
    {
     "data": {
      "text/html": [
       "<pre style=\"white-space:pre;overflow-x:auto;line-height:normal;font-family:Menlo,'DejaVu Sans Mono',consolas,'Courier New',monospace\">Step: 680000, Reward: 195.0\n",
       "</pre>\n"
      ],
      "text/plain": [
       "Step: 680000, Reward: 195.0\n"
      ]
     },
     "metadata": {},
     "output_type": "display_data"
    },
    {
     "data": {
      "text/html": [
       "<pre style=\"white-space:pre;overflow-x:auto;line-height:normal;font-family:Menlo,'DejaVu Sans Mono',consolas,'Courier New',monospace\">Step: 690000, Reward: 271.3333333333333\n",
       "</pre>\n"
      ],
      "text/plain": [
       "Step: 690000, Reward: 271.3333333333333\n"
      ]
     },
     "metadata": {},
     "output_type": "display_data"
    },
    {
     "data": {
      "text/html": [
       "<pre style=\"white-space:pre;overflow-x:auto;line-height:normal;font-family:Menlo,'DejaVu Sans Mono',consolas,'Courier New',monospace\">Step: 700000, Reward: 269.0\n",
       "</pre>\n"
      ],
      "text/plain": [
       "Step: 700000, Reward: 269.0\n"
      ]
     },
     "metadata": {},
     "output_type": "display_data"
    },
    {
     "data": {
      "text/html": [
       "<pre style=\"white-space:pre;overflow-x:auto;line-height:normal;font-family:Menlo,'DejaVu Sans Mono',consolas,'Courier New',monospace\">Step: 710000, Reward: 262.0\n",
       "</pre>\n"
      ],
      "text/plain": [
       "Step: 710000, Reward: 262.0\n"
      ]
     },
     "metadata": {},
     "output_type": "display_data"
    },
    {
     "data": {
      "text/html": [
       "<pre style=\"white-space:pre;overflow-x:auto;line-height:normal;font-family:Menlo,'DejaVu Sans Mono',consolas,'Courier New',monospace\">Step: 730000, Reward: 271.3333333333333\n",
       "</pre>\n"
      ],
      "text/plain": [
       "Step: 730000, Reward: 271.3333333333333\n"
      ]
     },
     "metadata": {},
     "output_type": "display_data"
    },
    {
     "data": {
      "text/html": [
       "<pre style=\"white-space:pre;overflow-x:auto;line-height:normal;font-family:Menlo,'DejaVu Sans Mono',consolas,'Courier New',monospace\">Step: 740000, Reward: 269.6666666666667\n",
       "</pre>\n"
      ],
      "text/plain": [
       "Step: 740000, Reward: 269.6666666666667\n"
      ]
     },
     "metadata": {},
     "output_type": "display_data"
    },
    {
     "data": {
      "text/html": [
       "<pre style=\"white-space:pre;overflow-x:auto;line-height:normal;font-family:Menlo,'DejaVu Sans Mono',consolas,'Courier New',monospace\">Step: 760000, Reward: 270.3333333333333\n",
       "</pre>\n"
      ],
      "text/plain": [
       "Step: 760000, Reward: 270.3333333333333\n"
      ]
     },
     "metadata": {},
     "output_type": "display_data"
    },
    {
     "data": {
      "text/html": [
       "<pre style=\"white-space:pre;overflow-x:auto;line-height:normal;font-family:Menlo,'DejaVu Sans Mono',consolas,'Courier New',monospace\">Step: 770000, Reward: 269.3333333333333\n",
       "</pre>\n"
      ],
      "text/plain": [
       "Step: 770000, Reward: 269.3333333333333\n"
      ]
     },
     "metadata": {},
     "output_type": "display_data"
    },
    {
     "data": {
      "text/html": [
       "<pre style=\"white-space:pre;overflow-x:auto;line-height:normal;font-family:Menlo,'DejaVu Sans Mono',consolas,'Courier New',monospace\">Step: 780000, Reward: 266.6666666666667\n",
       "</pre>\n"
      ],
      "text/plain": [
       "Step: 780000, Reward: 266.6666666666667\n"
      ]
     },
     "metadata": {},
     "output_type": "display_data"
    },
    {
     "data": {
      "text/html": [
       "<pre style=\"white-space:pre;overflow-x:auto;line-height:normal;font-family:Menlo,'DejaVu Sans Mono',consolas,'Courier New',monospace\">Step: 800000, Reward: 264.0\n",
       "</pre>\n"
      ],
      "text/plain": [
       "Step: 800000, Reward: 264.0\n"
      ]
     },
     "metadata": {},
     "output_type": "display_data"
    },
    {
     "data": {
      "text/html": [
       "<pre style=\"white-space:pre;overflow-x:auto;line-height:normal;font-family:Menlo,'DejaVu Sans Mono',consolas,'Courier New',monospace\">Step: 810000, Reward: 268.0\n",
       "</pre>\n"
      ],
      "text/plain": [
       "Step: 810000, Reward: 268.0\n"
      ]
     },
     "metadata": {},
     "output_type": "display_data"
    },
    {
     "data": {
      "text/html": [
       "<pre style=\"white-space:pre;overflow-x:auto;line-height:normal;font-family:Menlo,'DejaVu Sans Mono',consolas,'Courier New',monospace\">Step: 820000, Reward: 263.6666666666667\n",
       "</pre>\n"
      ],
      "text/plain": [
       "Step: 820000, Reward: 263.6666666666667\n"
      ]
     },
     "metadata": {},
     "output_type": "display_data"
    },
    {
     "data": {
      "text/html": [
       "<pre style=\"white-space:pre;overflow-x:auto;line-height:normal;font-family:Menlo,'DejaVu Sans Mono',consolas,'Courier New',monospace\">Step: 840000, Reward: 272.3333333333333\n",
       "</pre>\n"
      ],
      "text/plain": [
       "Step: 840000, Reward: 272.3333333333333\n"
      ]
     },
     "metadata": {},
     "output_type": "display_data"
    },
    {
     "data": {
      "text/html": [
       "<pre style=\"white-space:pre;overflow-x:auto;line-height:normal;font-family:Menlo,'DejaVu Sans Mono',consolas,'Courier New',monospace\">Step: 860000, Reward: 266.0\n",
       "</pre>\n"
      ],
      "text/plain": [
       "Step: 860000, Reward: 266.0\n"
      ]
     },
     "metadata": {},
     "output_type": "display_data"
    },
    {
     "data": {
      "text/html": [
       "<pre style=\"white-space:pre;overflow-x:auto;line-height:normal;font-family:Menlo,'DejaVu Sans Mono',consolas,'Courier New',monospace\">Step: 870000, Reward: 268.6666666666667\n",
       "</pre>\n"
      ],
      "text/plain": [
       "Step: 870000, Reward: 268.6666666666667\n"
      ]
     },
     "metadata": {},
     "output_type": "display_data"
    },
    {
     "data": {
      "text/html": [
       "<pre style=\"white-space:pre;overflow-x:auto;line-height:normal;font-family:Menlo,'DejaVu Sans Mono',consolas,'Courier New',monospace\">Step: 880000, Reward: 263.3333333333333\n",
       "</pre>\n"
      ],
      "text/plain": [
       "Step: 880000, Reward: 263.3333333333333\n"
      ]
     },
     "metadata": {},
     "output_type": "display_data"
    },
    {
     "data": {
      "text/html": [
       "<pre style=\"white-space:pre;overflow-x:auto;line-height:normal;font-family:Menlo,'DejaVu Sans Mono',consolas,'Courier New',monospace\">Step: 900000, Reward: 211.0\n",
       "</pre>\n"
      ],
      "text/plain": [
       "Step: 900000, Reward: 211.0\n"
      ]
     },
     "metadata": {},
     "output_type": "display_data"
    },
    {
     "data": {
      "text/html": [
       "<pre style=\"white-space:pre;overflow-x:auto;line-height:normal;font-family:Menlo,'DejaVu Sans Mono',consolas,'Courier New',monospace\">Step: 910000, Reward: 268.0\n",
       "</pre>\n"
      ],
      "text/plain": [
       "Step: 910000, Reward: 268.0\n"
      ]
     },
     "metadata": {},
     "output_type": "display_data"
    },
    {
     "data": {
      "text/html": [
       "<pre style=\"white-space:pre;overflow-x:auto;line-height:normal;font-family:Menlo,'DejaVu Sans Mono',consolas,'Courier New',monospace\">Step: 920000, Reward: 266.0\n",
       "</pre>\n"
      ],
      "text/plain": [
       "Step: 920000, Reward: 266.0\n"
      ]
     },
     "metadata": {},
     "output_type": "display_data"
    },
    {
     "data": {
      "text/html": [
       "<pre style=\"white-space:pre;overflow-x:auto;line-height:normal;font-family:Menlo,'DejaVu Sans Mono',consolas,'Courier New',monospace\">Step: 930000, Reward: 265.0\n",
       "</pre>\n"
      ],
      "text/plain": [
       "Step: 930000, Reward: 265.0\n"
      ]
     },
     "metadata": {},
     "output_type": "display_data"
    },
    {
     "data": {
      "text/html": [
       "<pre style=\"white-space:pre;overflow-x:auto;line-height:normal;font-family:Menlo,'DejaVu Sans Mono',consolas,'Courier New',monospace\">Step: 940000, Reward: 271.6666666666667\n",
       "</pre>\n"
      ],
      "text/plain": [
       "Step: 940000, Reward: 271.6666666666667\n"
      ]
     },
     "metadata": {},
     "output_type": "display_data"
    },
    {
     "data": {
      "text/html": [
       "<pre style=\"white-space:pre;overflow-x:auto;line-height:normal;font-family:Menlo,'DejaVu Sans Mono',consolas,'Courier New',monospace\">Step: 950000, Reward: 272.6666666666667\n",
       "</pre>\n"
      ],
      "text/plain": [
       "Step: 950000, Reward: 272.6666666666667\n"
      ]
     },
     "metadata": {},
     "output_type": "display_data"
    },
    {
     "data": {
      "text/html": [
       "<pre style=\"white-space:pre;overflow-x:auto;line-height:normal;font-family:Menlo,'DejaVu Sans Mono',consolas,'Courier New',monospace\">Step: 960000, Reward: 267.6666666666667\n",
       "</pre>\n"
      ],
      "text/plain": [
       "Step: 960000, Reward: 267.6666666666667\n"
      ]
     },
     "metadata": {},
     "output_type": "display_data"
    },
    {
     "data": {
      "text/html": [
       "<pre style=\"white-space:pre;overflow-x:auto;line-height:normal;font-family:Menlo,'DejaVu Sans Mono',consolas,'Courier New',monospace\">Step: 970000, Reward: 269.3333333333333\n",
       "</pre>\n"
      ],
      "text/plain": [
       "Step: 970000, Reward: 269.3333333333333\n"
      ]
     },
     "metadata": {},
     "output_type": "display_data"
    },
    {
     "data": {
      "text/html": [
       "<pre style=\"white-space:pre;overflow-x:auto;line-height:normal;font-family:Menlo,'DejaVu Sans Mono',consolas,'Courier New',monospace\">Step: 990000, Reward: 266.3333333333333\n",
       "</pre>\n"
      ],
      "text/plain": [
       "Step: 990000, Reward: 266.3333333333333\n"
      ]
     },
     "metadata": {},
     "output_type": "display_data"
    },
    {
     "data": {
      "text/html": [
       "<pre style=\"white-space:pre;overflow-x:auto;line-height:normal;font-family:Menlo,'DejaVu Sans Mono',consolas,'Courier New',monospace\">Step: 1000000, Reward: 269.3333333333333\n",
       "</pre>\n"
      ],
      "text/plain": [
       "Step: 1000000, Reward: 269.3333333333333\n"
      ]
     },
     "metadata": {},
     "output_type": "display_data"
    },
    {
     "data": {
      "text/html": [
       "<pre style=\"white-space:pre;overflow-x:auto;line-height:normal;font-family:Menlo,'DejaVu Sans Mono',consolas,'Courier New',monospace\">Step: 1020000, Reward: 270.0\n",
       "</pre>\n"
      ],
      "text/plain": [
       "Step: 1020000, Reward: 270.0\n"
      ]
     },
     "metadata": {},
     "output_type": "display_data"
    },
    {
     "data": {
      "text/html": [
       "<pre style=\"white-space:pre;overflow-x:auto;line-height:normal;font-family:Menlo,'DejaVu Sans Mono',consolas,'Courier New',monospace\">Step: 1030000, Reward: 271.0\n",
       "</pre>\n"
      ],
      "text/plain": [
       "Step: 1030000, Reward: 271.0\n"
      ]
     },
     "metadata": {},
     "output_type": "display_data"
    },
    {
     "data": {
      "text/html": [
       "<pre style=\"white-space:pre;overflow-x:auto;line-height:normal;font-family:Menlo,'DejaVu Sans Mono',consolas,'Courier New',monospace\">Step: 1050000, Reward: 267.3333333333333\n",
       "</pre>\n"
      ],
      "text/plain": [
       "Step: 1050000, Reward: 267.3333333333333\n"
      ]
     },
     "metadata": {},
     "output_type": "display_data"
    },
    {
     "data": {
      "text/html": [
       "<pre style=\"white-space:pre;overflow-x:auto;line-height:normal;font-family:Menlo,'DejaVu Sans Mono',consolas,'Courier New',monospace\">Step: 1060000, Reward: 220.0\n",
       "</pre>\n"
      ],
      "text/plain": [
       "Step: 1060000, Reward: 220.0\n"
      ]
     },
     "metadata": {},
     "output_type": "display_data"
    },
    {
     "data": {
      "text/html": [
       "<pre style=\"white-space:pre;overflow-x:auto;line-height:normal;font-family:Menlo,'DejaVu Sans Mono',consolas,'Courier New',monospace\">Step: 1070000, Reward: 268.3333333333333\n",
       "</pre>\n"
      ],
      "text/plain": [
       "Step: 1070000, Reward: 268.3333333333333\n"
      ]
     },
     "metadata": {},
     "output_type": "display_data"
    },
    {
     "data": {
      "text/html": [
       "<pre style=\"white-space:pre;overflow-x:auto;line-height:normal;font-family:Menlo,'DejaVu Sans Mono',consolas,'Courier New',monospace\">Step: 1100000, Reward: 203.0\n",
       "</pre>\n"
      ],
      "text/plain": [
       "Step: 1100000, Reward: 203.0\n"
      ]
     },
     "metadata": {},
     "output_type": "display_data"
    },
    {
     "data": {
      "text/html": [
       "<pre style=\"white-space:pre;overflow-x:auto;line-height:normal;font-family:Menlo,'DejaVu Sans Mono',consolas,'Courier New',monospace\">Step: 1120000, Reward: 270.6666666666667\n",
       "</pre>\n"
      ],
      "text/plain": [
       "Step: 1120000, Reward: 270.6666666666667\n"
      ]
     },
     "metadata": {},
     "output_type": "display_data"
    },
    {
     "data": {
      "text/html": [
       "<pre style=\"white-space:pre;overflow-x:auto;line-height:normal;font-family:Menlo,'DejaVu Sans Mono',consolas,'Courier New',monospace\">Step: 1140000, Reward: 272.3333333333333\n",
       "</pre>\n"
      ],
      "text/plain": [
       "Step: 1140000, Reward: 272.3333333333333\n"
      ]
     },
     "metadata": {},
     "output_type": "display_data"
    },
    {
     "data": {
      "text/html": [
       "<pre style=\"white-space:pre;overflow-x:auto;line-height:normal;font-family:Menlo,'DejaVu Sans Mono',consolas,'Courier New',monospace\">Step: 1150000, Reward: 264.0\n",
       "</pre>\n"
      ],
      "text/plain": [
       "Step: 1150000, Reward: 264.0\n"
      ]
     },
     "metadata": {},
     "output_type": "display_data"
    },
    {
     "data": {
      "text/html": [
       "<pre style=\"white-space:pre;overflow-x:auto;line-height:normal;font-family:Menlo,'DejaVu Sans Mono',consolas,'Courier New',monospace\">Step: 1160000, Reward: 258.3333333333333\n",
       "</pre>\n"
      ],
      "text/plain": [
       "Step: 1160000, Reward: 258.3333333333333\n"
      ]
     },
     "metadata": {},
     "output_type": "display_data"
    },
    {
     "data": {
      "text/html": [
       "<pre style=\"white-space:pre;overflow-x:auto;line-height:normal;font-family:Menlo,'DejaVu Sans Mono',consolas,'Courier New',monospace\">Step: 1190000, Reward: 267.3333333333333\n",
       "</pre>\n"
      ],
      "text/plain": [
       "Step: 1190000, Reward: 267.3333333333333\n"
      ]
     },
     "metadata": {},
     "output_type": "display_data"
    },
    {
     "data": {
      "text/html": [
       "<pre style=\"white-space:pre;overflow-x:auto;line-height:normal;font-family:Menlo,'DejaVu Sans Mono',consolas,'Courier New',monospace\">Step: 1200000, Reward: 269.3333333333333\n",
       "</pre>\n"
      ],
      "text/plain": [
       "Step: 1200000, Reward: 269.3333333333333\n"
      ]
     },
     "metadata": {},
     "output_type": "display_data"
    },
    {
     "data": {
      "text/html": [
       "<pre style=\"white-space:pre;overflow-x:auto;line-height:normal;font-family:Menlo,'DejaVu Sans Mono',consolas,'Courier New',monospace\">Step: 1240000, Reward: 271.3333333333333\n",
       "</pre>\n"
      ],
      "text/plain": [
       "Step: 1240000, Reward: 271.3333333333333\n"
      ]
     },
     "metadata": {},
     "output_type": "display_data"
    },
    {
     "data": {
      "text/html": [
       "<pre style=\"white-space:pre;overflow-x:auto;line-height:normal;font-family:Menlo,'DejaVu Sans Mono',consolas,'Courier New',monospace\">Step: 1250000, Reward: 269.0\n",
       "</pre>\n"
      ],
      "text/plain": [
       "Step: 1250000, Reward: 269.0\n"
      ]
     },
     "metadata": {},
     "output_type": "display_data"
    },
    {
     "data": {
      "text/html": [
       "<pre style=\"white-space:pre;overflow-x:auto;line-height:normal;font-family:Menlo,'DejaVu Sans Mono',consolas,'Courier New',monospace\">Step: 1280000, Reward: 272.0\n",
       "</pre>\n"
      ],
      "text/plain": [
       "Step: 1280000, Reward: 272.0\n"
      ]
     },
     "metadata": {},
     "output_type": "display_data"
    },
    {
     "data": {
      "text/html": [
       "<pre style=\"white-space:pre;overflow-x:auto;line-height:normal;font-family:Menlo,'DejaVu Sans Mono',consolas,'Courier New',monospace\">Step: 1290000, Reward: 267.3333333333333\n",
       "</pre>\n"
      ],
      "text/plain": [
       "Step: 1290000, Reward: 267.3333333333333\n"
      ]
     },
     "metadata": {},
     "output_type": "display_data"
    },
    {
     "data": {
      "text/html": [
       "<pre style=\"white-space:pre;overflow-x:auto;line-height:normal;font-family:Menlo,'DejaVu Sans Mono',consolas,'Courier New',monospace\">Step: 1300000, Reward: 272.0\n",
       "</pre>\n"
      ],
      "text/plain": [
       "Step: 1300000, Reward: 272.0\n"
      ]
     },
     "metadata": {},
     "output_type": "display_data"
    },
    {
     "data": {
      "text/html": [
       "<pre style=\"white-space:pre;overflow-x:auto;line-height:normal;font-family:Menlo,'DejaVu Sans Mono',consolas,'Courier New',monospace\">Step: 1310000, Reward: 275.6666666666667\n",
       "</pre>\n"
      ],
      "text/plain": [
       "Step: 1310000, Reward: 275.6666666666667\n"
      ]
     },
     "metadata": {},
     "output_type": "display_data"
    },
    {
     "data": {
      "text/html": [
       "<pre style=\"white-space:pre;overflow-x:auto;line-height:normal;font-family:Menlo,'DejaVu Sans Mono',consolas,'Courier New',monospace\">f:\\projects\\rl_experiments\\.venv\\lib\\site-packages\\stable_baselines3\\common\\save_util.py:284: UserWarning: Path \n",
       "'best_models\\1310000' does not exist. Will create it.\n",
       "  warnings.warn(f\"Path '{path.parent}' does not exist. Will create it.\")\n",
       "</pre>\n"
      ],
      "text/plain": [
       "f:\\projects\\rl_experiments\\.venv\\lib\\site-packages\\stable_baselines3\\common\\save_util.py:284: UserWarning: Path \n",
       "'best_models\\1310000' does not exist. Will create it.\n",
       "  warnings.warn(f\"Path '{path.parent}' does not exist. Will create it.\")\n"
      ]
     },
     "metadata": {},
     "output_type": "display_data"
    },
    {
     "data": {
      "text/html": [
       "<pre style=\"white-space:pre;overflow-x:auto;line-height:normal;font-family:Menlo,'DejaVu Sans Mono',consolas,'Courier New',monospace\">Step: 1320000, Reward: 273.6666666666667\n",
       "</pre>\n"
      ],
      "text/plain": [
       "Step: 1320000, Reward: 273.6666666666667\n"
      ]
     },
     "metadata": {},
     "output_type": "display_data"
    },
    {
     "data": {
      "text/html": [
       "<pre style=\"white-space:pre;overflow-x:auto;line-height:normal;font-family:Menlo,'DejaVu Sans Mono',consolas,'Courier New',monospace\">Step: 1330000, Reward: 268.0\n",
       "</pre>\n"
      ],
      "text/plain": [
       "Step: 1330000, Reward: 268.0\n"
      ]
     },
     "metadata": {},
     "output_type": "display_data"
    },
    {
     "data": {
      "text/html": [
       "<pre style=\"white-space:pre;overflow-x:auto;line-height:normal;font-family:Menlo,'DejaVu Sans Mono',consolas,'Courier New',monospace\">Step: 1350000, Reward: 271.0\n",
       "</pre>\n"
      ],
      "text/plain": [
       "Step: 1350000, Reward: 271.0\n"
      ]
     },
     "metadata": {},
     "output_type": "display_data"
    },
    {
     "data": {
      "text/html": [
       "<pre style=\"white-space:pre;overflow-x:auto;line-height:normal;font-family:Menlo,'DejaVu Sans Mono',consolas,'Courier New',monospace\">Step: 1360000, Reward: 265.3333333333333\n",
       "</pre>\n"
      ],
      "text/plain": [
       "Step: 1360000, Reward: 265.3333333333333\n"
      ]
     },
     "metadata": {},
     "output_type": "display_data"
    },
    {
     "data": {
      "text/html": [
       "<pre style=\"white-space:pre;overflow-x:auto;line-height:normal;font-family:Menlo,'DejaVu Sans Mono',consolas,'Courier New',monospace\">Step: 1370000, Reward: 267.6666666666667\n",
       "</pre>\n"
      ],
      "text/plain": [
       "Step: 1370000, Reward: 267.6666666666667\n"
      ]
     },
     "metadata": {},
     "output_type": "display_data"
    },
    {
     "data": {
      "text/html": [
       "<pre style=\"white-space:pre;overflow-x:auto;line-height:normal;font-family:Menlo,'DejaVu Sans Mono',consolas,'Courier New',monospace\">Step: 1380000, Reward: 269.6666666666667\n",
       "</pre>\n"
      ],
      "text/plain": [
       "Step: 1380000, Reward: 269.6666666666667\n"
      ]
     },
     "metadata": {},
     "output_type": "display_data"
    },
    {
     "data": {
      "text/html": [
       "<pre style=\"white-space:pre;overflow-x:auto;line-height:normal;font-family:Menlo,'DejaVu Sans Mono',consolas,'Courier New',monospace\">Step: 1390000, Reward: 269.0\n",
       "</pre>\n"
      ],
      "text/plain": [
       "Step: 1390000, Reward: 269.0\n"
      ]
     },
     "metadata": {},
     "output_type": "display_data"
    },
    {
     "data": {
      "text/html": [
       "<pre style=\"white-space:pre;overflow-x:auto;line-height:normal;font-family:Menlo,'DejaVu Sans Mono',consolas,'Courier New',monospace\">Step: 1400000, Reward: 271.6666666666667\n",
       "</pre>\n"
      ],
      "text/plain": [
       "Step: 1400000, Reward: 271.6666666666667\n"
      ]
     },
     "metadata": {},
     "output_type": "display_data"
    },
    {
     "data": {
      "text/html": [
       "<pre style=\"white-space:pre;overflow-x:auto;line-height:normal;font-family:Menlo,'DejaVu Sans Mono',consolas,'Courier New',monospace\">Step: 1410000, Reward: 218.33333333333334\n",
       "</pre>\n"
      ],
      "text/plain": [
       "Step: 1410000, Reward: 218.33333333333334\n"
      ]
     },
     "metadata": {},
     "output_type": "display_data"
    },
    {
     "data": {
      "text/html": [
       "<pre style=\"white-space:pre;overflow-x:auto;line-height:normal;font-family:Menlo,'DejaVu Sans Mono',consolas,'Courier New',monospace\">Step: 1430000, Reward: 270.0\n",
       "</pre>\n"
      ],
      "text/plain": [
       "Step: 1430000, Reward: 270.0\n"
      ]
     },
     "metadata": {},
     "output_type": "display_data"
    },
    {
     "data": {
      "text/html": [
       "<pre style=\"white-space:pre;overflow-x:auto;line-height:normal;font-family:Menlo,'DejaVu Sans Mono',consolas,'Courier New',monospace\">Step: 1440000, Reward: 180.33333333333334\n",
       "</pre>\n"
      ],
      "text/plain": [
       "Step: 1440000, Reward: 180.33333333333334\n"
      ]
     },
     "metadata": {},
     "output_type": "display_data"
    },
    {
     "data": {
      "text/html": [
       "<pre style=\"white-space:pre;overflow-x:auto;line-height:normal;font-family:Menlo,'DejaVu Sans Mono',consolas,'Courier New',monospace\">Step: 1450000, Reward: 264.6666666666667\n",
       "</pre>\n"
      ],
      "text/plain": [
       "Step: 1450000, Reward: 264.6666666666667\n"
      ]
     },
     "metadata": {},
     "output_type": "display_data"
    },
    {
     "data": {
      "text/html": [
       "<pre style=\"white-space:pre;overflow-x:auto;line-height:normal;font-family:Menlo,'DejaVu Sans Mono',consolas,'Courier New',monospace\">Step: 1470000, Reward: 265.6666666666667\n",
       "</pre>\n"
      ],
      "text/plain": [
       "Step: 1470000, Reward: 265.6666666666667\n"
      ]
     },
     "metadata": {},
     "output_type": "display_data"
    },
    {
     "data": {
      "text/html": [
       "<pre style=\"white-space:pre;overflow-x:auto;line-height:normal;font-family:Menlo,'DejaVu Sans Mono',consolas,'Courier New',monospace\">Step: 1480000, Reward: 273.0\n",
       "</pre>\n"
      ],
      "text/plain": [
       "Step: 1480000, Reward: 273.0\n"
      ]
     },
     "metadata": {},
     "output_type": "display_data"
    },
    {
     "data": {
      "text/html": [
       "<pre style=\"white-space:pre;overflow-x:auto;line-height:normal;font-family:Menlo,'DejaVu Sans Mono',consolas,'Courier New',monospace\">Step: 1490000, Reward: 274.6666666666667\n",
       "</pre>\n"
      ],
      "text/plain": [
       "Step: 1490000, Reward: 274.6666666666667\n"
      ]
     },
     "metadata": {},
     "output_type": "display_data"
    },
    {
     "data": {
      "text/html": [
       "<pre style=\"white-space:pre;overflow-x:auto;line-height:normal;font-family:Menlo,'DejaVu Sans Mono',consolas,'Courier New',monospace\">Step: 1510000, Reward: 274.3333333333333\n",
       "</pre>\n"
      ],
      "text/plain": [
       "Step: 1510000, Reward: 274.3333333333333\n"
      ]
     },
     "metadata": {},
     "output_type": "display_data"
    },
    {
     "data": {
      "text/html": [
       "<pre style=\"white-space:pre;overflow-x:auto;line-height:normal;font-family:Menlo,'DejaVu Sans Mono',consolas,'Courier New',monospace\">Step: 1520000, Reward: 269.6666666666667\n",
       "</pre>\n"
      ],
      "text/plain": [
       "Step: 1520000, Reward: 269.6666666666667\n"
      ]
     },
     "metadata": {},
     "output_type": "display_data"
    },
    {
     "data": {
      "text/html": [
       "<pre style=\"white-space:pre;overflow-x:auto;line-height:normal;font-family:Menlo,'DejaVu Sans Mono',consolas,'Courier New',monospace\">Step: 1540000, Reward: 273.0\n",
       "</pre>\n"
      ],
      "text/plain": [
       "Step: 1540000, Reward: 273.0\n"
      ]
     },
     "metadata": {},
     "output_type": "display_data"
    },
    {
     "data": {
      "text/html": [
       "<pre style=\"white-space:pre;overflow-x:auto;line-height:normal;font-family:Menlo,'DejaVu Sans Mono',consolas,'Courier New',monospace\">Step: 1550000, Reward: 270.6666666666667\n",
       "</pre>\n"
      ],
      "text/plain": [
       "Step: 1550000, Reward: 270.6666666666667\n"
      ]
     },
     "metadata": {},
     "output_type": "display_data"
    },
    {
     "data": {
      "text/html": [
       "<pre style=\"white-space:pre;overflow-x:auto;line-height:normal;font-family:Menlo,'DejaVu Sans Mono',consolas,'Courier New',monospace\">Step: 1560000, Reward: 273.3333333333333\n",
       "</pre>\n"
      ],
      "text/plain": [
       "Step: 1560000, Reward: 273.3333333333333\n"
      ]
     },
     "metadata": {},
     "output_type": "display_data"
    },
    {
     "data": {
      "text/html": [
       "<pre style=\"white-space:pre;overflow-x:auto;line-height:normal;font-family:Menlo,'DejaVu Sans Mono',consolas,'Courier New',monospace\">Step: 1570000, Reward: 270.3333333333333\n",
       "</pre>\n"
      ],
      "text/plain": [
       "Step: 1570000, Reward: 270.3333333333333\n"
      ]
     },
     "metadata": {},
     "output_type": "display_data"
    },
    {
     "data": {
      "text/html": [
       "<pre style=\"white-space:pre;overflow-x:auto;line-height:normal;font-family:Menlo,'DejaVu Sans Mono',consolas,'Courier New',monospace\">Step: 1580000, Reward: 267.3333333333333\n",
       "</pre>\n"
      ],
      "text/plain": [
       "Step: 1580000, Reward: 267.3333333333333\n"
      ]
     },
     "metadata": {},
     "output_type": "display_data"
    },
    {
     "data": {
      "text/html": [
       "<pre style=\"white-space:pre;overflow-x:auto;line-height:normal;font-family:Menlo,'DejaVu Sans Mono',consolas,'Courier New',monospace\">Step: 1590000, Reward: 273.0\n",
       "</pre>\n"
      ],
      "text/plain": [
       "Step: 1590000, Reward: 273.0\n"
      ]
     },
     "metadata": {},
     "output_type": "display_data"
    },
    {
     "data": {
      "text/html": [
       "<pre style=\"white-space:pre;overflow-x:auto;line-height:normal;font-family:Menlo,'DejaVu Sans Mono',consolas,'Courier New',monospace\">Step: 1610000, Reward: 268.3333333333333\n",
       "</pre>\n"
      ],
      "text/plain": [
       "Step: 1610000, Reward: 268.3333333333333\n"
      ]
     },
     "metadata": {},
     "output_type": "display_data"
    },
    {
     "data": {
      "text/html": [
       "<pre style=\"white-space:pre;overflow-x:auto;line-height:normal;font-family:Menlo,'DejaVu Sans Mono',consolas,'Courier New',monospace\">Step: 1620000, Reward: 270.6666666666667\n",
       "</pre>\n"
      ],
      "text/plain": [
       "Step: 1620000, Reward: 270.6666666666667\n"
      ]
     },
     "metadata": {},
     "output_type": "display_data"
    },
    {
     "data": {
      "text/html": [
       "<pre style=\"white-space:pre;overflow-x:auto;line-height:normal;font-family:Menlo,'DejaVu Sans Mono',consolas,'Courier New',monospace\">Step: 1630000, Reward: 270.0\n",
       "</pre>\n"
      ],
      "text/plain": [
       "Step: 1630000, Reward: 270.0\n"
      ]
     },
     "metadata": {},
     "output_type": "display_data"
    },
    {
     "data": {
      "text/html": [
       "<pre style=\"white-space:pre;overflow-x:auto;line-height:normal;font-family:Menlo,'DejaVu Sans Mono',consolas,'Courier New',monospace\">Step: 1640000, Reward: 267.6666666666667\n",
       "</pre>\n"
      ],
      "text/plain": [
       "Step: 1640000, Reward: 267.6666666666667\n"
      ]
     },
     "metadata": {},
     "output_type": "display_data"
    },
    {
     "data": {
      "text/html": [
       "<pre style=\"white-space:pre;overflow-x:auto;line-height:normal;font-family:Menlo,'DejaVu Sans Mono',consolas,'Courier New',monospace\">Step: 1650000, Reward: 270.6666666666667\n",
       "</pre>\n"
      ],
      "text/plain": [
       "Step: 1650000, Reward: 270.6666666666667\n"
      ]
     },
     "metadata": {},
     "output_type": "display_data"
    },
    {
     "data": {
      "text/html": [
       "<pre style=\"white-space:pre;overflow-x:auto;line-height:normal;font-family:Menlo,'DejaVu Sans Mono',consolas,'Courier New',monospace\">Step: 1660000, Reward: 180.0\n",
       "</pre>\n"
      ],
      "text/plain": [
       "Step: 1660000, Reward: 180.0\n"
      ]
     },
     "metadata": {},
     "output_type": "display_data"
    },
    {
     "data": {
      "text/html": [
       "<pre style=\"white-space:pre;overflow-x:auto;line-height:normal;font-family:Menlo,'DejaVu Sans Mono',consolas,'Courier New',monospace\">Step: 1670000, Reward: 274.0\n",
       "</pre>\n"
      ],
      "text/plain": [
       "Step: 1670000, Reward: 274.0\n"
      ]
     },
     "metadata": {},
     "output_type": "display_data"
    },
    {
     "data": {
      "text/html": [
       "<pre style=\"white-space:pre;overflow-x:auto;line-height:normal;font-family:Menlo,'DejaVu Sans Mono',consolas,'Courier New',monospace\">Step: 1690000, Reward: 269.3333333333333\n",
       "</pre>\n"
      ],
      "text/plain": [
       "Step: 1690000, Reward: 269.3333333333333\n"
      ]
     },
     "metadata": {},
     "output_type": "display_data"
    },
    {
     "data": {
      "text/html": [
       "<pre style=\"white-space:pre;overflow-x:auto;line-height:normal;font-family:Menlo,'DejaVu Sans Mono',consolas,'Courier New',monospace\">Step: 1720000, Reward: 267.3333333333333\n",
       "</pre>\n"
      ],
      "text/plain": [
       "Step: 1720000, Reward: 267.3333333333333\n"
      ]
     },
     "metadata": {},
     "output_type": "display_data"
    },
    {
     "data": {
      "text/html": [
       "<pre style=\"white-space:pre;overflow-x:auto;line-height:normal;font-family:Menlo,'DejaVu Sans Mono',consolas,'Courier New',monospace\">Step: 1730000, Reward: 270.3333333333333\n",
       "</pre>\n"
      ],
      "text/plain": [
       "Step: 1730000, Reward: 270.3333333333333\n"
      ]
     },
     "metadata": {},
     "output_type": "display_data"
    },
    {
     "data": {
      "text/html": [
       "<pre style=\"white-space:pre;overflow-x:auto;line-height:normal;font-family:Menlo,'DejaVu Sans Mono',consolas,'Courier New',monospace\">Step: 1740000, Reward: 269.3333333333333\n",
       "</pre>\n"
      ],
      "text/plain": [
       "Step: 1740000, Reward: 269.3333333333333\n"
      ]
     },
     "metadata": {},
     "output_type": "display_data"
    },
    {
     "data": {
      "text/html": [
       "<pre style=\"white-space:pre;overflow-x:auto;line-height:normal;font-family:Menlo,'DejaVu Sans Mono',consolas,'Courier New',monospace\">Step: 1770000, Reward: 272.0\n",
       "</pre>\n"
      ],
      "text/plain": [
       "Step: 1770000, Reward: 272.0\n"
      ]
     },
     "metadata": {},
     "output_type": "display_data"
    },
    {
     "data": {
      "text/html": [
       "<pre style=\"white-space:pre;overflow-x:auto;line-height:normal;font-family:Menlo,'DejaVu Sans Mono',consolas,'Courier New',monospace\">Step: 1780000, Reward: 269.0\n",
       "</pre>\n"
      ],
      "text/plain": [
       "Step: 1780000, Reward: 269.0\n"
      ]
     },
     "metadata": {},
     "output_type": "display_data"
    },
    {
     "data": {
      "text/html": [
       "<pre style=\"white-space:pre;overflow-x:auto;line-height:normal;font-family:Menlo,'DejaVu Sans Mono',consolas,'Courier New',monospace\">Step: 1790000, Reward: 272.0\n",
       "</pre>\n"
      ],
      "text/plain": [
       "Step: 1790000, Reward: 272.0\n"
      ]
     },
     "metadata": {},
     "output_type": "display_data"
    },
    {
     "data": {
      "text/html": [
       "<pre style=\"white-space:pre;overflow-x:auto;line-height:normal;font-family:Menlo,'DejaVu Sans Mono',consolas,'Courier New',monospace\">Step: 1820000, Reward: 271.3333333333333\n",
       "</pre>\n"
      ],
      "text/plain": [
       "Step: 1820000, Reward: 271.3333333333333\n"
      ]
     },
     "metadata": {},
     "output_type": "display_data"
    },
    {
     "data": {
      "text/html": [
       "<pre style=\"white-space:pre;overflow-x:auto;line-height:normal;font-family:Menlo,'DejaVu Sans Mono',consolas,'Courier New',monospace\">Step: 1830000, Reward: 271.3333333333333\n",
       "</pre>\n"
      ],
      "text/plain": [
       "Step: 1830000, Reward: 271.3333333333333\n"
      ]
     },
     "metadata": {},
     "output_type": "display_data"
    },
    {
     "data": {
      "text/html": [
       "<pre style=\"white-space:pre;overflow-x:auto;line-height:normal;font-family:Menlo,'DejaVu Sans Mono',consolas,'Courier New',monospace\">Step: 1850000, Reward: 269.3333333333333\n",
       "</pre>\n"
      ],
      "text/plain": [
       "Step: 1850000, Reward: 269.3333333333333\n"
      ]
     },
     "metadata": {},
     "output_type": "display_data"
    },
    {
     "data": {
      "text/html": [
       "<pre style=\"white-space:pre;overflow-x:auto;line-height:normal;font-family:Menlo,'DejaVu Sans Mono',consolas,'Courier New',monospace\">Step: 1860000, Reward: 271.0\n",
       "</pre>\n"
      ],
      "text/plain": [
       "Step: 1860000, Reward: 271.0\n"
      ]
     },
     "metadata": {},
     "output_type": "display_data"
    },
    {
     "data": {
      "text/html": [
       "<pre style=\"white-space:pre;overflow-x:auto;line-height:normal;font-family:Menlo,'DejaVu Sans Mono',consolas,'Courier New',monospace\">Step: 1880000, Reward: 267.0\n",
       "</pre>\n"
      ],
      "text/plain": [
       "Step: 1880000, Reward: 267.0\n"
      ]
     },
     "metadata": {},
     "output_type": "display_data"
    },
    {
     "data": {
      "text/html": [
       "<pre style=\"white-space:pre;overflow-x:auto;line-height:normal;font-family:Menlo,'DejaVu Sans Mono',consolas,'Courier New',monospace\">Step: 1890000, Reward: 268.6666666666667\n",
       "</pre>\n"
      ],
      "text/plain": [
       "Step: 1890000, Reward: 268.6666666666667\n"
      ]
     },
     "metadata": {},
     "output_type": "display_data"
    },
    {
     "data": {
      "text/html": [
       "<pre style=\"white-space:pre;overflow-x:auto;line-height:normal;font-family:Menlo,'DejaVu Sans Mono',consolas,'Courier New',monospace\">Step: 1910000, Reward: 268.0\n",
       "</pre>\n"
      ],
      "text/plain": [
       "Step: 1910000, Reward: 268.0\n"
      ]
     },
     "metadata": {},
     "output_type": "display_data"
    },
    {
     "data": {
      "text/html": [
       "<pre style=\"white-space:pre;overflow-x:auto;line-height:normal;font-family:Menlo,'DejaVu Sans Mono',consolas,'Courier New',monospace\">Step: 1920000, Reward: 270.6666666666667\n",
       "</pre>\n"
      ],
      "text/plain": [
       "Step: 1920000, Reward: 270.6666666666667\n"
      ]
     },
     "metadata": {},
     "output_type": "display_data"
    },
    {
     "data": {
      "text/html": [
       "<pre style=\"white-space:pre;overflow-x:auto;line-height:normal;font-family:Menlo,'DejaVu Sans Mono',consolas,'Courier New',monospace\">Step: 1930000, Reward: 269.6666666666667\n",
       "</pre>\n"
      ],
      "text/plain": [
       "Step: 1930000, Reward: 269.6666666666667\n"
      ]
     },
     "metadata": {},
     "output_type": "display_data"
    },
    {
     "data": {
      "text/html": [
       "<pre style=\"white-space:pre;overflow-x:auto;line-height:normal;font-family:Menlo,'DejaVu Sans Mono',consolas,'Courier New',monospace\">Step: 1940000, Reward: 270.3333333333333\n",
       "</pre>\n"
      ],
      "text/plain": [
       "Step: 1940000, Reward: 270.3333333333333\n"
      ]
     },
     "metadata": {},
     "output_type": "display_data"
    },
    {
     "data": {
      "text/html": [
       "<pre style=\"white-space:pre;overflow-x:auto;line-height:normal;font-family:Menlo,'DejaVu Sans Mono',consolas,'Courier New',monospace\">Step: 1950000, Reward: 268.0\n",
       "</pre>\n"
      ],
      "text/plain": [
       "Step: 1950000, Reward: 268.0\n"
      ]
     },
     "metadata": {},
     "output_type": "display_data"
    },
    {
     "data": {
      "text/html": [
       "<pre style=\"white-space:pre;overflow-x:auto;line-height:normal;font-family:Menlo,'DejaVu Sans Mono',consolas,'Courier New',monospace\">Step: 1960000, Reward: 266.3333333333333\n",
       "</pre>\n"
      ],
      "text/plain": [
       "Step: 1960000, Reward: 266.3333333333333\n"
      ]
     },
     "metadata": {},
     "output_type": "display_data"
    },
    {
     "data": {
      "text/html": [
       "<pre style=\"white-space:pre;overflow-x:auto;line-height:normal;font-family:Menlo,'DejaVu Sans Mono',consolas,'Courier New',monospace\">Step: 1970000, Reward: 272.0\n",
       "</pre>\n"
      ],
      "text/plain": [
       "Step: 1970000, Reward: 272.0\n"
      ]
     },
     "metadata": {},
     "output_type": "display_data"
    },
    {
     "data": {
      "text/html": [
       "<pre style=\"white-space:pre;overflow-x:auto;line-height:normal;font-family:Menlo,'DejaVu Sans Mono',consolas,'Courier New',monospace\">Step: 1980000, Reward: 272.3333333333333\n",
       "</pre>\n"
      ],
      "text/plain": [
       "Step: 1980000, Reward: 272.3333333333333\n"
      ]
     },
     "metadata": {},
     "output_type": "display_data"
    },
    {
     "data": {
      "text/html": [
       "<pre style=\"white-space:pre;overflow-x:auto;line-height:normal;font-family:Menlo,'DejaVu Sans Mono',consolas,'Courier New',monospace\">Step: 2000000, Reward: 266.0\n",
       "</pre>\n"
      ],
      "text/plain": [
       "Step: 2000000, Reward: 266.0\n"
      ]
     },
     "metadata": {},
     "output_type": "display_data"
    },
    {
     "data": {
      "text/html": [
       "<pre style=\"white-space:pre;overflow-x:auto;line-height:normal;font-family:Menlo,'DejaVu Sans Mono',consolas,'Courier New',monospace\">Step: 2010000, Reward: 264.3333333333333\n",
       "</pre>\n"
      ],
      "text/plain": [
       "Step: 2010000, Reward: 264.3333333333333\n"
      ]
     },
     "metadata": {},
     "output_type": "display_data"
    },
    {
     "data": {
      "text/html": [
       "<pre style=\"white-space:pre;overflow-x:auto;line-height:normal;font-family:Menlo,'DejaVu Sans Mono',consolas,'Courier New',monospace\">Step: 2020000, Reward: 272.3333333333333\n",
       "</pre>\n"
      ],
      "text/plain": [
       "Step: 2020000, Reward: 272.3333333333333\n"
      ]
     },
     "metadata": {},
     "output_type": "display_data"
    },
    {
     "data": {
      "text/html": [
       "<pre style=\"white-space:pre;overflow-x:auto;line-height:normal;font-family:Menlo,'DejaVu Sans Mono',consolas,'Courier New',monospace\">Step: 2030000, Reward: 269.3333333333333\n",
       "</pre>\n"
      ],
      "text/plain": [
       "Step: 2030000, Reward: 269.3333333333333\n"
      ]
     },
     "metadata": {},
     "output_type": "display_data"
    },
    {
     "data": {
      "text/html": [
       "<pre style=\"white-space:pre;overflow-x:auto;line-height:normal;font-family:Menlo,'DejaVu Sans Mono',consolas,'Courier New',monospace\">Step: 2050000, Reward: 273.3333333333333\n",
       "</pre>\n"
      ],
      "text/plain": [
       "Step: 2050000, Reward: 273.3333333333333\n"
      ]
     },
     "metadata": {},
     "output_type": "display_data"
    },
    {
     "data": {
      "text/html": [
       "<pre style=\"white-space:pre;overflow-x:auto;line-height:normal;font-family:Menlo,'DejaVu Sans Mono',consolas,'Courier New',monospace\">Step: 2090000, Reward: 270.3333333333333\n",
       "</pre>\n"
      ],
      "text/plain": [
       "Step: 2090000, Reward: 270.3333333333333\n"
      ]
     },
     "metadata": {},
     "output_type": "display_data"
    },
    {
     "data": {
      "text/html": [
       "<pre style=\"white-space:pre;overflow-x:auto;line-height:normal;font-family:Menlo,'DejaVu Sans Mono',consolas,'Courier New',monospace\">Step: 2120000, Reward: 272.3333333333333\n",
       "</pre>\n"
      ],
      "text/plain": [
       "Step: 2120000, Reward: 272.3333333333333\n"
      ]
     },
     "metadata": {},
     "output_type": "display_data"
    },
    {
     "data": {
      "text/html": [
       "<pre style=\"white-space:pre;overflow-x:auto;line-height:normal;font-family:Menlo,'DejaVu Sans Mono',consolas,'Courier New',monospace\">Step: 2130000, Reward: 272.6666666666667\n",
       "</pre>\n"
      ],
      "text/plain": [
       "Step: 2130000, Reward: 272.6666666666667\n"
      ]
     },
     "metadata": {},
     "output_type": "display_data"
    },
    {
     "data": {
      "text/html": [
       "<pre style=\"white-space:pre;overflow-x:auto;line-height:normal;font-family:Menlo,'DejaVu Sans Mono',consolas,'Courier New',monospace\">Step: 2140000, Reward: 268.6666666666667\n",
       "</pre>\n"
      ],
      "text/plain": [
       "Step: 2140000, Reward: 268.6666666666667\n"
      ]
     },
     "metadata": {},
     "output_type": "display_data"
    },
    {
     "data": {
      "text/html": [
       "<pre style=\"white-space:pre;overflow-x:auto;line-height:normal;font-family:Menlo,'DejaVu Sans Mono',consolas,'Courier New',monospace\">Step: 2150000, Reward: 266.0\n",
       "</pre>\n"
      ],
      "text/plain": [
       "Step: 2150000, Reward: 266.0\n"
      ]
     },
     "metadata": {},
     "output_type": "display_data"
    },
    {
     "data": {
      "text/html": [
       "<pre style=\"white-space:pre;overflow-x:auto;line-height:normal;font-family:Menlo,'DejaVu Sans Mono',consolas,'Courier New',monospace\">Step: 2160000, Reward: 267.3333333333333\n",
       "</pre>\n"
      ],
      "text/plain": [
       "Step: 2160000, Reward: 267.3333333333333\n"
      ]
     },
     "metadata": {},
     "output_type": "display_data"
    },
    {
     "data": {
      "text/html": [
       "<pre style=\"white-space:pre;overflow-x:auto;line-height:normal;font-family:Menlo,'DejaVu Sans Mono',consolas,'Courier New',monospace\">Step: 2180000, Reward: 273.0\n",
       "</pre>\n"
      ],
      "text/plain": [
       "Step: 2180000, Reward: 273.0\n"
      ]
     },
     "metadata": {},
     "output_type": "display_data"
    },
    {
     "data": {
      "text/html": [
       "<pre style=\"white-space:pre;overflow-x:auto;line-height:normal;font-family:Menlo,'DejaVu Sans Mono',consolas,'Courier New',monospace\">Step: 2190000, Reward: 275.6666666666667\n",
       "</pre>\n"
      ],
      "text/plain": [
       "Step: 2190000, Reward: 275.6666666666667\n"
      ]
     },
     "metadata": {},
     "output_type": "display_data"
    },
    {
     "data": {
      "text/html": [
       "<pre style=\"white-space:pre;overflow-x:auto;line-height:normal;font-family:Menlo,'DejaVu Sans Mono',consolas,'Courier New',monospace\">Step: 2220000, Reward: 270.3333333333333\n",
       "</pre>\n"
      ],
      "text/plain": [
       "Step: 2220000, Reward: 270.3333333333333\n"
      ]
     },
     "metadata": {},
     "output_type": "display_data"
    },
    {
     "data": {
      "text/html": [
       "<pre style=\"white-space:pre;overflow-x:auto;line-height:normal;font-family:Menlo,'DejaVu Sans Mono',consolas,'Courier New',monospace\">Step: 2240000, Reward: 271.3333333333333\n",
       "</pre>\n"
      ],
      "text/plain": [
       "Step: 2240000, Reward: 271.3333333333333\n"
      ]
     },
     "metadata": {},
     "output_type": "display_data"
    },
    {
     "data": {
      "text/html": [
       "<pre style=\"white-space:pre;overflow-x:auto;line-height:normal;font-family:Menlo,'DejaVu Sans Mono',consolas,'Courier New',monospace\">Step: 2260000, Reward: 269.3333333333333\n",
       "</pre>\n"
      ],
      "text/plain": [
       "Step: 2260000, Reward: 269.3333333333333\n"
      ]
     },
     "metadata": {},
     "output_type": "display_data"
    },
    {
     "data": {
      "text/html": [
       "<pre style=\"white-space:pre;overflow-x:auto;line-height:normal;font-family:Menlo,'DejaVu Sans Mono',consolas,'Courier New',monospace\">Step: 2270000, Reward: 257.0\n",
       "</pre>\n"
      ],
      "text/plain": [
       "Step: 2270000, Reward: 257.0\n"
      ]
     },
     "metadata": {},
     "output_type": "display_data"
    },
    {
     "data": {
      "text/html": [
       "<pre style=\"white-space:pre;overflow-x:auto;line-height:normal;font-family:Menlo,'DejaVu Sans Mono',consolas,'Courier New',monospace\">Step: 2300000, Reward: 266.6666666666667\n",
       "</pre>\n"
      ],
      "text/plain": [
       "Step: 2300000, Reward: 266.6666666666667\n"
      ]
     },
     "metadata": {},
     "output_type": "display_data"
    },
    {
     "data": {
      "text/html": [
       "<pre style=\"white-space:pre;overflow-x:auto;line-height:normal;font-family:Menlo,'DejaVu Sans Mono',consolas,'Courier New',monospace\">Step: 2310000, Reward: 185.66666666666666\n",
       "</pre>\n"
      ],
      "text/plain": [
       "Step: 2310000, Reward: 185.66666666666666\n"
      ]
     },
     "metadata": {},
     "output_type": "display_data"
    },
    {
     "data": {
      "text/html": [
       "<pre style=\"white-space:pre;overflow-x:auto;line-height:normal;font-family:Menlo,'DejaVu Sans Mono',consolas,'Courier New',monospace\">Step: 2320000, Reward: 265.6666666666667\n",
       "</pre>\n"
      ],
      "text/plain": [
       "Step: 2320000, Reward: 265.6666666666667\n"
      ]
     },
     "metadata": {},
     "output_type": "display_data"
    },
    {
     "data": {
      "text/html": [
       "<pre style=\"white-space:pre;overflow-x:auto;line-height:normal;font-family:Menlo,'DejaVu Sans Mono',consolas,'Courier New',monospace\">Step: 2350000, Reward: 267.6666666666667\n",
       "</pre>\n"
      ],
      "text/plain": [
       "Step: 2350000, Reward: 267.6666666666667\n"
      ]
     },
     "metadata": {},
     "output_type": "display_data"
    },
    {
     "data": {
      "text/html": [
       "<pre style=\"white-space:pre;overflow-x:auto;line-height:normal;font-family:Menlo,'DejaVu Sans Mono',consolas,'Courier New',monospace\">Step: 2360000, Reward: 247.0\n",
       "</pre>\n"
      ],
      "text/plain": [
       "Step: 2360000, Reward: 247.0\n"
      ]
     },
     "metadata": {},
     "output_type": "display_data"
    },
    {
     "data": {
      "text/html": [
       "<pre style=\"white-space:pre;overflow-x:auto;line-height:normal;font-family:Menlo,'DejaVu Sans Mono',consolas,'Courier New',monospace\">Step: 2380000, Reward: 274.6666666666667\n",
       "</pre>\n"
      ],
      "text/plain": [
       "Step: 2380000, Reward: 274.6666666666667\n"
      ]
     },
     "metadata": {},
     "output_type": "display_data"
    },
    {
     "data": {
      "text/html": [
       "<pre style=\"white-space:pre;overflow-x:auto;line-height:normal;font-family:Menlo,'DejaVu Sans Mono',consolas,'Courier New',monospace\">Step: 2390000, Reward: 265.6666666666667\n",
       "</pre>\n"
      ],
      "text/plain": [
       "Step: 2390000, Reward: 265.6666666666667\n"
      ]
     },
     "metadata": {},
     "output_type": "display_data"
    },
    {
     "data": {
      "text/html": [
       "<pre style=\"white-space:pre;overflow-x:auto;line-height:normal;font-family:Menlo,'DejaVu Sans Mono',consolas,'Courier New',monospace\">Step: 2410000, Reward: 274.6666666666667\n",
       "</pre>\n"
      ],
      "text/plain": [
       "Step: 2410000, Reward: 274.6666666666667\n"
      ]
     },
     "metadata": {},
     "output_type": "display_data"
    },
    {
     "data": {
      "text/html": [
       "<pre style=\"white-space:pre;overflow-x:auto;line-height:normal;font-family:Menlo,'DejaVu Sans Mono',consolas,'Courier New',monospace\">Step: 2420000, Reward: 268.6666666666667\n",
       "</pre>\n"
      ],
      "text/plain": [
       "Step: 2420000, Reward: 268.6666666666667\n"
      ]
     },
     "metadata": {},
     "output_type": "display_data"
    },
    {
     "data": {
      "text/html": [
       "<pre style=\"white-space:pre;overflow-x:auto;line-height:normal;font-family:Menlo,'DejaVu Sans Mono',consolas,'Courier New',monospace\">Step: 2460000, Reward: 271.6666666666667\n",
       "</pre>\n"
      ],
      "text/plain": [
       "Step: 2460000, Reward: 271.6666666666667\n"
      ]
     },
     "metadata": {},
     "output_type": "display_data"
    },
    {
     "data": {
      "text/html": [
       "<pre style=\"white-space:pre;overflow-x:auto;line-height:normal;font-family:Menlo,'DejaVu Sans Mono',consolas,'Courier New',monospace\">Step: 2500000, Reward: 270.6666666666667\n",
       "</pre>\n"
      ],
      "text/plain": [
       "Step: 2500000, Reward: 270.6666666666667\n"
      ]
     },
     "metadata": {},
     "output_type": "display_data"
    },
    {
     "data": {
      "text/html": [
       "<pre style=\"white-space:pre;overflow-x:auto;line-height:normal;font-family:Menlo,'DejaVu Sans Mono',consolas,'Courier New',monospace\">Step: 2510000, Reward: 273.3333333333333\n",
       "</pre>\n"
      ],
      "text/plain": [
       "Step: 2510000, Reward: 273.3333333333333\n"
      ]
     },
     "metadata": {},
     "output_type": "display_data"
    },
    {
     "data": {
      "text/html": [
       "<pre style=\"white-space:pre;overflow-x:auto;line-height:normal;font-family:Menlo,'DejaVu Sans Mono',consolas,'Courier New',monospace\">Step: 2520000, Reward: 270.0\n",
       "</pre>\n"
      ],
      "text/plain": [
       "Step: 2520000, Reward: 270.0\n"
      ]
     },
     "metadata": {},
     "output_type": "display_data"
    },
    {
     "data": {
      "text/html": [
       "<pre style=\"white-space:pre;overflow-x:auto;line-height:normal;font-family:Menlo,'DejaVu Sans Mono',consolas,'Courier New',monospace\">Step: 2530000, Reward: 263.6666666666667\n",
       "</pre>\n"
      ],
      "text/plain": [
       "Step: 2530000, Reward: 263.6666666666667\n"
      ]
     },
     "metadata": {},
     "output_type": "display_data"
    },
    {
     "data": {
      "text/html": [
       "<pre style=\"white-space:pre;overflow-x:auto;line-height:normal;font-family:Menlo,'DejaVu Sans Mono',consolas,'Courier New',monospace\">Step: 2550000, Reward: 264.0\n",
       "</pre>\n"
      ],
      "text/plain": [
       "Step: 2550000, Reward: 264.0\n"
      ]
     },
     "metadata": {},
     "output_type": "display_data"
    },
    {
     "data": {
      "text/html": [
       "<pre style=\"white-space:pre;overflow-x:auto;line-height:normal;font-family:Menlo,'DejaVu Sans Mono',consolas,'Courier New',monospace\">Step: 2560000, Reward: 271.6666666666667\n",
       "</pre>\n"
      ],
      "text/plain": [
       "Step: 2560000, Reward: 271.6666666666667\n"
      ]
     },
     "metadata": {},
     "output_type": "display_data"
    },
    {
     "data": {
      "text/html": [
       "<pre style=\"white-space:pre;overflow-x:auto;line-height:normal;font-family:Menlo,'DejaVu Sans Mono',consolas,'Courier New',monospace\">Step: 2580000, Reward: 272.0\n",
       "</pre>\n"
      ],
      "text/plain": [
       "Step: 2580000, Reward: 272.0\n"
      ]
     },
     "metadata": {},
     "output_type": "display_data"
    },
    {
     "data": {
      "text/html": [
       "<pre style=\"white-space:pre;overflow-x:auto;line-height:normal;font-family:Menlo,'DejaVu Sans Mono',consolas,'Courier New',monospace\">Step: 2590000, Reward: 271.0\n",
       "</pre>\n"
      ],
      "text/plain": [
       "Step: 2590000, Reward: 271.0\n"
      ]
     },
     "metadata": {},
     "output_type": "display_data"
    },
    {
     "data": {
      "text/html": [
       "<pre style=\"white-space:pre;overflow-x:auto;line-height:normal;font-family:Menlo,'DejaVu Sans Mono',consolas,'Courier New',monospace\">Step: 2600000, Reward: 272.3333333333333\n",
       "</pre>\n"
      ],
      "text/plain": [
       "Step: 2600000, Reward: 272.3333333333333\n"
      ]
     },
     "metadata": {},
     "output_type": "display_data"
    },
    {
     "data": {
      "text/html": [
       "<pre style=\"white-space:pre;overflow-x:auto;line-height:normal;font-family:Menlo,'DejaVu Sans Mono',consolas,'Courier New',monospace\">Step: 2610000, Reward: 270.0\n",
       "</pre>\n"
      ],
      "text/plain": [
       "Step: 2610000, Reward: 270.0\n"
      ]
     },
     "metadata": {},
     "output_type": "display_data"
    },
    {
     "data": {
      "text/html": [
       "<pre style=\"white-space:pre;overflow-x:auto;line-height:normal;font-family:Menlo,'DejaVu Sans Mono',consolas,'Courier New',monospace\">Step: 2630000, Reward: 270.6666666666667\n",
       "</pre>\n"
      ],
      "text/plain": [
       "Step: 2630000, Reward: 270.6666666666667\n"
      ]
     },
     "metadata": {},
     "output_type": "display_data"
    },
    {
     "data": {
      "text/html": [
       "<pre style=\"white-space:pre;overflow-x:auto;line-height:normal;font-family:Menlo,'DejaVu Sans Mono',consolas,'Courier New',monospace\">Step: 2650000, Reward: 270.0\n",
       "</pre>\n"
      ],
      "text/plain": [
       "Step: 2650000, Reward: 270.0\n"
      ]
     },
     "metadata": {},
     "output_type": "display_data"
    },
    {
     "data": {
      "text/html": [
       "<pre style=\"white-space:pre;overflow-x:auto;line-height:normal;font-family:Menlo,'DejaVu Sans Mono',consolas,'Courier New',monospace\">Step: 2660000, Reward: 270.6666666666667\n",
       "</pre>\n"
      ],
      "text/plain": [
       "Step: 2660000, Reward: 270.6666666666667\n"
      ]
     },
     "metadata": {},
     "output_type": "display_data"
    },
    {
     "data": {
      "text/html": [
       "<pre style=\"white-space:pre;overflow-x:auto;line-height:normal;font-family:Menlo,'DejaVu Sans Mono',consolas,'Courier New',monospace\">Step: 2670000, Reward: 271.3333333333333\n",
       "</pre>\n"
      ],
      "text/plain": [
       "Step: 2670000, Reward: 271.3333333333333\n"
      ]
     },
     "metadata": {},
     "output_type": "display_data"
    },
    {
     "data": {
      "text/html": [
       "<pre style=\"white-space:pre;overflow-x:auto;line-height:normal;font-family:Menlo,'DejaVu Sans Mono',consolas,'Courier New',monospace\">Step: 2680000, Reward: 272.0\n",
       "</pre>\n"
      ],
      "text/plain": [
       "Step: 2680000, Reward: 272.0\n"
      ]
     },
     "metadata": {},
     "output_type": "display_data"
    },
    {
     "data": {
      "text/html": [
       "<pre style=\"white-space:pre;overflow-x:auto;line-height:normal;font-family:Menlo,'DejaVu Sans Mono',consolas,'Courier New',monospace\">Step: 2690000, Reward: 271.6666666666667\n",
       "</pre>\n"
      ],
      "text/plain": [
       "Step: 2690000, Reward: 271.6666666666667\n"
      ]
     },
     "metadata": {},
     "output_type": "display_data"
    },
    {
     "data": {
      "text/html": [
       "<pre style=\"white-space:pre;overflow-x:auto;line-height:normal;font-family:Menlo,'DejaVu Sans Mono',consolas,'Courier New',monospace\">Step: 2700000, Reward: 268.0\n",
       "</pre>\n"
      ],
      "text/plain": [
       "Step: 2700000, Reward: 268.0\n"
      ]
     },
     "metadata": {},
     "output_type": "display_data"
    },
    {
     "data": {
      "text/html": [
       "<pre style=\"white-space:pre;overflow-x:auto;line-height:normal;font-family:Menlo,'DejaVu Sans Mono',consolas,'Courier New',monospace\">Step: 2730000, Reward: 269.0\n",
       "</pre>\n"
      ],
      "text/plain": [
       "Step: 2730000, Reward: 269.0\n"
      ]
     },
     "metadata": {},
     "output_type": "display_data"
    },
    {
     "data": {
      "text/html": [
       "<pre style=\"white-space:pre;overflow-x:auto;line-height:normal;font-family:Menlo,'DejaVu Sans Mono',consolas,'Courier New',monospace\">Step: 2740000, Reward: 270.3333333333333\n",
       "</pre>\n"
      ],
      "text/plain": [
       "Step: 2740000, Reward: 270.3333333333333\n"
      ]
     },
     "metadata": {},
     "output_type": "display_data"
    },
    {
     "data": {
      "text/html": [
       "<pre style=\"white-space:pre;overflow-x:auto;line-height:normal;font-family:Menlo,'DejaVu Sans Mono',consolas,'Courier New',monospace\">Step: 2750000, Reward: 269.6666666666667\n",
       "</pre>\n"
      ],
      "text/plain": [
       "Step: 2750000, Reward: 269.6666666666667\n"
      ]
     },
     "metadata": {},
     "output_type": "display_data"
    },
    {
     "data": {
      "text/html": [
       "<pre style=\"white-space:pre;overflow-x:auto;line-height:normal;font-family:Menlo,'DejaVu Sans Mono',consolas,'Courier New',monospace\">Step: 2760000, Reward: 268.6666666666667\n",
       "</pre>\n"
      ],
      "text/plain": [
       "Step: 2760000, Reward: 268.6666666666667\n"
      ]
     },
     "metadata": {},
     "output_type": "display_data"
    },
    {
     "data": {
      "text/html": [
       "<pre style=\"white-space:pre;overflow-x:auto;line-height:normal;font-family:Menlo,'DejaVu Sans Mono',consolas,'Courier New',monospace\">Step: 2770000, Reward: 269.0\n",
       "</pre>\n"
      ],
      "text/plain": [
       "Step: 2770000, Reward: 269.0\n"
      ]
     },
     "metadata": {},
     "output_type": "display_data"
    },
    {
     "data": {
      "text/html": [
       "<pre style=\"white-space:pre;overflow-x:auto;line-height:normal;font-family:Menlo,'DejaVu Sans Mono',consolas,'Courier New',monospace\">Step: 2780000, Reward: 272.6666666666667\n",
       "</pre>\n"
      ],
      "text/plain": [
       "Step: 2780000, Reward: 272.6666666666667\n"
      ]
     },
     "metadata": {},
     "output_type": "display_data"
    },
    {
     "data": {
      "text/html": [
       "<pre style=\"white-space:pre;overflow-x:auto;line-height:normal;font-family:Menlo,'DejaVu Sans Mono',consolas,'Courier New',monospace\">Step: 2790000, Reward: 271.6666666666667\n",
       "</pre>\n"
      ],
      "text/plain": [
       "Step: 2790000, Reward: 271.6666666666667\n"
      ]
     },
     "metadata": {},
     "output_type": "display_data"
    },
    {
     "ename": "",
     "evalue": "",
     "output_type": "error",
     "traceback": [
      "\u001b[1;31mThe Kernel crashed while executing code in the current cell or a previous cell. \n",
      "\u001b[1;31mPlease review the code in the cell(s) to identify a possible cause of the failure. \n",
      "\u001b[1;31mClick <a href='https://aka.ms/vscodeJupyterKernelCrash'>here</a> for more info. \n",
      "\u001b[1;31mView Jupyter <a href='command:jupyter.viewOutput'>log</a> for further details."
     ]
    }
   ],
   "source": [
    "import pygame\n",
    "from stable_baselines3.common.env_util import make_vec_env\n",
    "from games.tileman.envs.solo_player_env import SoloPlayerEnv\n",
    "from stable_baselines3 import PPO, A2C, DQN\n",
    "from stable_baselines3.common.callbacks import BaseCallback\n",
    "from stable_baselines3.common.evaluation import evaluate_policy\n",
    "\n",
    "vec_env = make_vec_env(\"tileman-solo-v0\", n_envs=10, env_kwargs=dict(grid_size=40, vision_range=5))\n",
    "model = PPO(\"MlpPolicy\", vec_env, verbose=0, n_steps=5000, batch_size=100, n_epochs=8, learning_rate=0.0002, policy_kwargs=dict(net_arch=[416, 416]))\n",
    "\n",
    "class SaveEvalCallback(BaseCallback):\n",
    "    def __init__(self, eval_freq=10000, verbose=0):\n",
    "        super(SaveEvalCallback, self).__init__(verbose)\n",
    "        self.eval_env = make_vec_env(\"tileman-solo-v0\", n_envs=1, env_kwargs=dict(grid_size=40, vision_range=5))\n",
    "        self.eval_freq = eval_freq\n",
    "        self.best_mean_reward = -float('inf')\n",
    "\n",
    "    def _on_step(self) -> bool:\n",
    "        if self.n_calls % self.eval_freq == 0:\n",
    "            reward, _ = evaluate_policy(\n",
    "                model.policy,  # type: ignore[arg-type]\n",
    "                vec_env,\n",
    "                n_eval_episodes=3,\n",
    "                render=False,  # comment out to speed up\n",
    "            )\n",
    "            if self.verbose > 0:\n",
    "                print(f\"Step: {self.n_calls}, Reward: {reward}\")\n",
    "            if reward > self.best_mean_reward:\n",
    "                self.best_mean_reward = reward\n",
    "                self.model.save(f\"best_models/{self.n_calls}/{reward}\")\n",
    "        return True\n",
    "    \n",
    "model.learn(total_timesteps=100_000_000, progress_bar=True, callback=SaveEvalCallback(eval_freq=10000, verbose=1))\n",
    "obs = vec_env.reset()"
   ]
  },
  {
   "cell_type": "code",
   "execution_count": null,
   "id": "89f7da61-dd56-4807-99b0-f126b9cd307f",
   "metadata": {},
   "outputs": [],
   "source": [
    "model.save(\"test\")"
   ]
  },
  {
   "cell_type": "code",
   "execution_count": null,
   "id": "976dd7ad",
   "metadata": {},
   "outputs": [],
   "source": [
    "def run_eval():\n",
    "    rewards = 0\n",
    "    obs = vec_env.reset()\n",
    "    done = False\n",
    "    while not done:\n",
    "        action, _states = model.predict(obs, deterministic=True)\n",
    "        obs, reward, done, info = vec_env.step(action)\n",
    "        vec_env.render()\n",
    "        \n",
    "        rewards += reward\n",
    "        \n",
    "        if done:\n",
    "            print(f\"Episode finished after {1} timesteps, total rewards: {rewards}\")\n",
    "            rewards = 0\n",
    "            obs = vec_env.reset()\n",
    "\n",
    "while True:\n",
    "    run_eval()"
   ]
  },
  {
   "cell_type": "code",
   "execution_count": null,
   "id": "bcc6a473",
   "metadata": {},
   "outputs": [],
   "source": [
    "from stable_baselines3.common.evaluation import evaluate_policy\n",
    "\n",
    "reward, _ = evaluate_policy(\n",
    "    model.policy,  # type: ignore[arg-type]\n",
    "    vec_env,\n",
    "    n_eval_episodes=3,\n",
    "    render=False,  # comment out to speed up\n",
    ")\n",
    "print(f\"Rewar: {reward}\")\n",
    "\n",
    "vec_env.close()"
   ]
  }
 ],
 "metadata": {
  "kernelspec": {
   "display_name": ".venv",
   "language": "python",
   "name": "python3"
  },
  "language_info": {
   "codemirror_mode": {
    "name": "ipython",
    "version": 3
   },
   "file_extension": ".py",
   "mimetype": "text/x-python",
   "name": "python",
   "nbconvert_exporter": "python",
   "pygments_lexer": "ipython3",
   "version": "3.9.0"
  }
 },
 "nbformat": 4,
 "nbformat_minor": 5
}
