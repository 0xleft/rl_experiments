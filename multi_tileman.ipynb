{
 "cells": [
  {
   "cell_type": "code",
   "execution_count": null,
   "id": "c9796d39",
   "metadata": {},
   "outputs": [],
   "source": [
    "!pip install --proxy http://172.20.64.198:8080 -r requirements.txt"
   ]
  },
  {
   "cell_type": "code",
   "execution_count": null,
   "id": "d07c37ad",
   "metadata": {},
   "outputs": [],
   "source": [
    "import nest_asyncio\n",
    "nest_asyncio.apply()\n",
    "from games.tileman.envs.multi_agent_env import TileServer, ClientPlayerEnv"
   ]
  },
  {
   "cell_type": "code",
   "execution_count": null,
   "id": "24920bb4",
   "metadata": {},
   "outputs": [],
   "source": [
    "proc = TileServer.start_popen_process()"
   ]
  },
  {
   "cell_type": "code",
   "execution_count": null,
   "id": "9e40f9dd",
   "metadata": {},
   "outputs": [],
   "source": [
    "proc.terminate()"
   ]
  },
  {
   "cell_type": "code",
   "execution_count": null,
   "id": "845b225c",
   "metadata": {},
   "outputs": [],
   "source": [
    "env = ClientPlayerEnv()\n",
    "env.reset()\n",
    "\n",
    "while True:\n",
    "    res = env.step(0)\n",
    "    obs, reward, done, truncated, info = res\n",
    "    if done:\n",
    "        break"
   ]
  },
  {
   "cell_type": "code",
   "execution_count": null,
   "id": "2cde1b9d",
   "metadata": {},
   "outputs": [],
   "source": [
    "import nest_asyncio\n",
    "nest_asyncio.apply()\n",
    "import pygame\n",
    "from stable_baselines3.common.env_util import SubprocVecEnv, make_vec_env\n",
    "from games.tileman.envs.multi_agent_env import TileServer, ClientPlayerEnv\n",
    "from stable_baselines3 import PPO, A2C, DQN\n",
    "from stable_baselines3.common.callbacks import BaseCallback\n",
    "from stable_baselines3.common.evaluation import evaluate_policy\n",
    "\n",
    "# vec_env = make_vec_env(\"tileman-multi-v0\", n_envs=1, env_kwargs=dict(vision_range=5))"
   ]
  },
  {
   "cell_type": "code",
   "execution_count": null,
   "id": "73a4c7b5",
   "metadata": {},
   "outputs": [],
   "source": [
    "from typing import Callable\n",
    "import gymnasium\n",
    "\n",
    "def make_env(env_id: str, rank: int, seed: int = 0) -> Callable:\n",
    "    def _init() -> ClientPlayerEnv:\n",
    "        env = gymnasium.make(env_id)\n",
    "        env.reset(seed=seed + rank)\n",
    "        return env\n",
    "\n",
    "    return _init\n",
    "\n",
    "env = SubprocVecEnv([make_env(\"tileman-multi-v0\", i) for i in range(4)])"
   ]
  },
  {
   "cell_type": "code",
   "execution_count": null,
   "id": "6152cc38",
   "metadata": {},
   "outputs": [],
   "source": [
    "model = PPO(\"MlpPolicy\", env, verbose=0, n_steps=5000, batch_size=100, n_epochs=8, learning_rate=0.0002, policy_kwargs=dict(net_arch=[416, 416]))\n",
    "\n",
    "class SaveEvalCallback(BaseCallback):\n",
    "    def __init__(self, eval_freq=10000, verbose=0):\n",
    "        super(SaveEvalCallback, self).__init__(verbose)\n",
    "        self.eval_env = make_vec_env(\"tileman-multi-v0\", n_envs=1, env_kwargs=dict(vision_range=5))\n",
    "        self.eval_freq = eval_freq\n",
    "        self.best_mean_reward = -float('inf')\n",
    "\n",
    "    def _on_step(self) -> bool:\n",
    "        if self.n_calls % self.eval_freq == 0:\n",
    "            reward, _ = evaluate_policy(\n",
    "                model.policy,\n",
    "                self.eval_env,\n",
    "                n_eval_episodes=3,\n",
    "                render=False,  # comment out to speed up\n",
    "            )\n",
    "            if self.verbose > 0:\n",
    "                print(f\"Step: {self.n_calls}, Reward: {reward}\")\n",
    "            if reward > self.best_mean_reward:\n",
    "                self.best_mean_reward = reward\n",
    "                self.model.save(f\"best_models/{self.n_calls}/{reward}\")\n",
    "        return True\n",
    "    \n",
    "model.learn(total_timesteps=100_000_000, progress_bar=True, callback=SaveEvalCallback(eval_freq=10000, verbose=1))\n",
    "obs = env.reset()"
   ]
  },
  {
   "cell_type": "code",
   "execution_count": null,
   "id": "89f7da61-dd56-4807-99b0-f126b9cd307f",
   "metadata": {},
   "outputs": [],
   "source": [
    "model.save(\"test\")"
   ]
  }
 ],
 "metadata": {
  "kernelspec": {
   "display_name": "base",
   "language": "python",
   "name": "python3"
  },
  "language_info": {
   "codemirror_mode": {
    "name": "ipython",
    "version": 3
   },
   "file_extension": ".py",
   "mimetype": "text/x-python",
   "name": "python",
   "nbconvert_exporter": "python",
   "pygments_lexer": "ipython3",
   "version": "3.10.11"
  }
 },
 "nbformat": 4,
 "nbformat_minor": 5
}
