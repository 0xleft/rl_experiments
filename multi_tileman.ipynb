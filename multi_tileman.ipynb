{
 "cells": [
  {
   "cell_type": "code",
   "execution_count": null,
   "id": "c9796d39",
   "metadata": {},
   "outputs": [],
   "source": [
    "!pip install --proxy http://172.20.64.198:8080 -r requirements.txt"
   ]
  },
  {
   "cell_type": "code",
   "execution_count": null,
   "id": "d07c37ad",
   "metadata": {},
   "outputs": [],
   "source": [
    "import nest_asyncio\n",
    "nest_asyncio.apply()\n",
    "from games.tileman.envs.multi_agent_env import TileServer, ClientPlayerEnv"
   ]
  },
  {
   "cell_type": "code",
   "execution_count": null,
   "id": "24920bb4",
   "metadata": {},
   "outputs": [],
   "source": [
    "proc = TileServer.start_popen_process()"
   ]
  },
  {
   "cell_type": "code",
   "execution_count": null,
   "id": "9e40f9dd",
   "metadata": {},
   "outputs": [],
   "source": [
    "proc.terminate()"
   ]
  },
  {
   "cell_type": "code",
   "execution_count": null,
   "id": "845b225c",
   "metadata": {},
   "outputs": [],
   "source": [
    "env = ClientPlayerEnv()\n",
    "env.reset()\n",
    "\n",
    "while True:\n",
    "    res = env.step(0)\n",
    "    obs, reward, done, truncated, info = res\n",
    "    if done:\n",
    "        env.reset()"
   ]
  },
  {
   "cell_type": "code",
   "execution_count": null,
   "id": "2cde1b9d",
   "metadata": {},
   "outputs": [],
   "source": [
    "import nest_asyncio\n",
    "nest_asyncio.apply()\n",
    "import pygame\n",
    "from stable_baselines3.common.env_util import SubprocVecEnv, make_vec_env, DummyVecEnv\n",
    "from games.tileman.envs.multi_agent_env import TileServer, ClientPlayerEnv\n",
    "from stable_baselines3 import PPO, A2C, DQN\n",
    "from stable_baselines3.common.callbacks import EvalCallback\n",
    "from stable_baselines3.common.evaluation import evaluate_policy\n",
    "from stable_baselines3.common.monitor import Monitor\n",
    "import torch.nn as nn\n",
    "import torch\n",
    "from stable_baselines3.common.torch_layers import BaseFeaturesExtractor\n",
    "\n",
    "# vec_env = make_vec_env(\"tileman-multi-v0\", n_envs=4, env_kwargs=dict(vision_range=5))"
   ]
  },
  {
   "cell_type": "code",
   "execution_count": null,
   "id": "73a4c7b5",
   "metadata": {},
   "outputs": [],
   "source": [
    "from typing import Callable\n",
    "import gymnasium\n",
    "\n",
    "def make_env(env_id: str, rank: int, seed: int = 0) -> Callable:\n",
    "    def _init() -> ClientPlayerEnv:\n",
    "        env = gymnasium.make(env_id)\n",
    "        return env\n",
    "\n",
    "    return _init\n",
    "\n",
    "env = SubprocVecEnv([make_env(\"tileman-multi-v0\", i) for i in range(6)], start_method=\"spawn\")\n",
    "# env.reset()"
   ]
  },
  {
   "cell_type": "code",
   "execution_count": null,
   "id": "6152cc38",
   "metadata": {},
   "outputs": [],
   "source": [
    "class CustomCNN(BaseFeaturesExtractor):\n",
    "    def __init__(self, observation_space, features_dim=256):\n",
    "        super(CustomCNN, self).__init__(observation_space, features_dim)\n",
    "        n_input_channels = observation_space.shape[0]\n",
    "        self.cnn = nn.Sequential(\n",
    "            nn.Conv2d(n_input_channels, 32, kernel_size=3, stride=1, padding=1),\n",
    "            nn.ReLU(),\n",
    "            nn.MaxPool2d(kernel_size=2, stride=2),\n",
    "            nn.Conv2d(32, 64, kernel_size=3, stride=1, padding=1),\n",
    "            nn.ReLU(),\n",
    "            nn.MaxPool2d(kernel_size=2, stride=2),\n",
    "            nn.Conv2d(64, 128, kernel_size=3, stride=1, padding=1),\n",
    "            nn.ReLU(),\n",
    "            nn.MaxPool2d(kernel_size=2, stride=2),\n",
    "            nn.Flatten(),\n",
    "        )\n",
    "\n",
    "        with torch.no_grad():\n",
    "            n_flatten = self.cnn(torch.as_tensor(observation_space.sample()[None]).float()).shape[1]\n",
    "        self.linear = nn.Sequential(nn.Linear(n_flatten, features_dim), nn.ReLU())\n",
    "\n",
    "    def forward(self, observations):\n",
    "        return self.linear(self.cnn(observations))\n",
    "\n",
    "policy_kwargs = dict(\n",
    "    features_extractor_class=CustomCNN,\n",
    "    features_extractor_kwargs=dict(features_dim=256),\n",
    "    net_arch=[512, 256, 128, 128, 64],\n",
    "    normalize_images=False\n",
    ")\n",
    "\n",
    "model = PPO(\"CnnPolicy\", env, verbose=0, n_steps=5000, batch_size=100, n_epochs=10, learning_rate=0.0002, policy_kwargs=policy_kwargs)\n",
    "model.learn(total_timesteps=100_000_000, progress_bar=True, callback=EvalCallback(env, n_eval_episodes=5, eval_freq=10_000, deterministic=True, verbose=1))\n",
    "obs = env.reset()"
   ]
  },
  {
   "cell_type": "code",
   "execution_count": null,
   "id": "89f7da61-dd56-4807-99b0-f126b9cd307f",
   "metadata": {},
   "outputs": [],
   "source": [
    "model.save(\"test\")"
   ]
  }
 ],
 "metadata": {
  "kernelspec": {
   "display_name": "base",
   "language": "python",
   "name": "python3"
  },
  "language_info": {
   "codemirror_mode": {
    "name": "ipython",
    "version": 3
   },
   "file_extension": ".py",
   "mimetype": "text/x-python",
   "name": "python",
   "nbconvert_exporter": "python",
   "pygments_lexer": "ipython3",
   "version": "3.10.11"
  }
 },
 "nbformat": 4,
 "nbformat_minor": 5
}
